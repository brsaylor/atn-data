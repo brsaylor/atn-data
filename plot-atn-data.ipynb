{
 "cells": [
  {
   "cell_type": "code",
   "execution_count": 1,
   "metadata": {
    "collapsed": true
   },
   "outputs": [],
   "source": [
    "%matplotlib inline\n",
    "\n",
    "import os\n",
    "from math import log2\n",
    "\n",
    "import ipywidgets as widgets\n",
    "from ipywidgets import interact, interactive\n",
    "from IPython.display import display\n",
    "\n",
    "from create_feature_file import getSimNumber\n",
    "from plot_atn_csv import *"
   ]
  },
  {
   "cell_type": "markdown",
   "metadata": {},
   "source": [
    "Score functions\n",
    "==============="
   ]
  },
  {
   "cell_type": "markdown",
   "metadata": {},
   "source": [
    "Original environment score function\n",
    "-----------------------------------\n",
    "\n",
    "The environment score depends on:\n",
    "- the number of species\n",
    "- the following species-specific attributes:\n",
    "    - total biomass\n",
    "    - individual biomass\n",
    "    - number of individuals (total biomass / individual biomass)\n",
    "    - trophic level"
   ]
  },
  {
   "cell_type": "code",
   "execution_count": 2,
   "metadata": {
    "collapsed": false
   },
   "outputs": [
    {
     "ename": "SyntaxError",
     "evalue": "invalid syntax (<ipython-input-2-cdb4fbfaf1dc>, line 8)",
     "output_type": "error",
     "traceback": [
      "\u001b[1;36m  File \u001b[1;32m\"<ipython-input-2-cdb4fbfaf1dc>\"\u001b[1;36m, line \u001b[1;32m8\u001b[0m\n\u001b[1;33m    numTimesteps = len(biomassData[nodeConfig[0]['nodeId']])b\u001b[0m\n\u001b[1;37m                                                            ^\u001b[0m\n\u001b[1;31mSyntaxError\u001b[0m\u001b[1;31m:\u001b[0m invalid syntax\n"
     ]
    }
   ],
   "source": [
    "def environmentScore(speciesData, nodeConfig, biomassData):\n",
    "    \"\"\"\n",
    "    Compute the Ecosystem Score for all timesteps for the given data and return\n",
    "    the score time series.  The calculations are taken from\n",
    "    model.Ecosystem.updateEcosystemScore() in WoB_Server.\n",
    "    \"\"\"\n",
    "\n",
    "    numTimesteps = len(biomassData[nodeConfig[0]['nodeId']])b\n",
    "    scores = np.empty(numTimesteps)\n",
    "\n",
    "    for timestep in range(numTimesteps):\n",
    "\n",
    "        # Calculate the Ecosystem Score for this timestep\n",
    "        biomass = 0\n",
    "        numSpecies = len(nodeConfig)\n",
    "        for node in nodeConfig:\n",
    "            nodeId = node['nodeId']\n",
    "            perUnitBiomass = node['perUnitBiomass']\n",
    "\n",
    "            # Sometimes biomass can go slightly negative.\n",
    "            # Clip to 0 to avoid complex numbers in score calculation.\n",
    "            totalBiomass = max(0, biomassData[nodeId][timestep])\n",
    "\n",
    "            biomass += perUnitBiomass * pow(totalBiomass / perUnitBiomass,\n",
    "                    speciesData[nodeId]['trophicLevel'])\n",
    "        if biomass > 0:\n",
    "            biomass = round(log2(biomass)) * 5\n",
    "        scores[timestep] = int(round(pow(biomass, 2) + pow(numSpecies, 2)))\n",
    "\n",
    "    return scores"
   ]
  },
  {
   "cell_type": "markdown",
   "metadata": {},
   "source": [
    "Original environment score, without rounding\n",
    "---\n",
    "\n",
    "$$Score_t = \\left( 5 log_2 \\left( \\sum_{i=1}^N b_i \\left(\\frac{B_{it}}{b_i}\\right)^{T_i} \\right) \\right)^2 + N^2$$"
   ]
  },
  {
   "cell_type": "code",
   "execution_count": null,
   "metadata": {
    "collapsed": true
   },
   "outputs": [],
   "source": [
    "def environmentScoreNoRounding(speciesData, nodeConfig, biomassData):\n",
    "\n",
    "    numTimesteps = len(biomassData[nodeConfig[0]['nodeId']])\n",
    "    scores = np.empty(numTimesteps)\n",
    "\n",
    "    for timestep in range(numTimesteps):\n",
    "\n",
    "        # Calculate the Ecosystem Score for this timestep\n",
    "        biomass = 0\n",
    "        numSpecies = len(nodeConfig)\n",
    "        for node in nodeConfig:\n",
    "            nodeId = node['nodeId']\n",
    "            perUnitBiomass = node['perUnitBiomass']\n",
    "\n",
    "            # Sometimes biomass can go slightly negative.\n",
    "            # Clip to 0 to avoid complex numbers in score calculation.\n",
    "            totalBiomass = max(0, biomassData[nodeId][timestep])\n",
    "\n",
    "            biomass += perUnitBiomass * pow(totalBiomass / perUnitBiomass,\n",
    "                    speciesData[nodeId]['trophicLevel'])\n",
    "        if biomass > 0:\n",
    "            biomass = log2(biomass) * 5\n",
    "        scores[timestep] = pow(biomass, 2) + pow(numSpecies, 2)\n",
    "\n",
    "    return scores"
   ]
  },
  {
   "cell_type": "markdown",
   "metadata": {},
   "source": [
    "Using cube root instead of log\n",
    "---"
   ]
  },
  {
   "cell_type": "code",
   "execution_count": null,
   "metadata": {
    "collapsed": true
   },
   "outputs": [],
   "source": [
    "def environmentScoreCubeRoot(speciesData, nodeConfig, biomassData):\n",
    "    \"\"\"\n",
    "    Compute the Ecosystem Score for all timesteps for the given data and return\n",
    "    the score time series.  The calculations are taken from\n",
    "    model.Ecosystem.updateEcosystemScore() in WoB_Server.\n",
    "    \"\"\"\n",
    "\n",
    "    numTimesteps = len(biomassData[nodeConfig[0]['nodeId']])\n",
    "    scores = np.empty(numTimesteps)\n",
    "\n",
    "    for timestep in range(numTimesteps):\n",
    "\n",
    "        # Calculate the Ecosystem Score for this timestep\n",
    "        biomass = 0\n",
    "        numSpecies = len(nodeConfig)\n",
    "        for node in nodeConfig:\n",
    "            nodeId = node['nodeId']\n",
    "            perUnitBiomass = node['perUnitBiomass']\n",
    "\n",
    "            # Sometimes biomass can go slightly negative.\n",
    "            # Clip to 0 to avoid complex numbers in score calculation.\n",
    "            totalBiomass = max(0, biomassData[nodeId][timestep])\n",
    "\n",
    "            biomass += perUnitBiomass * pow(totalBiomass / perUnitBiomass,\n",
    "                    speciesData[nodeId]['trophicLevel'])\n",
    "        if biomass > 0:\n",
    "            biomass = pow(biomass, 1/3) * 5\n",
    "        scores[timestep] = pow(biomass, 2) + pow(numSpecies, 2)\n",
    "\n",
    "    return scores"
   ]
  },
  {
   "cell_type": "markdown",
   "metadata": {},
   "source": [
    "Shannon index, based on number of individuals\n",
    "---"
   ]
  },
  {
   "cell_type": "code",
   "execution_count": null,
   "metadata": {
    "collapsed": false
   },
   "outputs": [],
   "source": [
    "def shannonIndex(speciesData, nodeConfig, biomassData):\n",
    "    numTimesteps = len(biomassData[nodeConfig[0]['nodeId']])\n",
    "    scores = np.zeros(numTimesteps)\n",
    "    \n",
    "    for timestep in range(numTimesteps):\n",
    "        individualCount = np.empty(len(nodeConfig))\n",
    "        for i, node in enumerate(nodeConfig):\n",
    "            speciesBiomass = max(0, biomassData[node['nodeId']][timestep])\n",
    "            individualBiomass = node['perUnitBiomass']\n",
    "            individualCount[i] = speciesBiomass / individualBiomass\n",
    "        totalIndividuals = individualCount.sum()\n",
    "        for i, node in enumerate(nodeConfig):\n",
    "            if individualCount[i] == 0:\n",
    "                continue\n",
    "            proportion = individualCount[i] / totalIndividuals\n",
    "            scores[timestep] -= proportion * log2(proportion)\n",
    "    \n",
    "    return scores"
   ]
  },
  {
   "cell_type": "markdown",
   "metadata": {},
   "source": [
    "Shannon index, based on biomass\n",
    "---"
   ]
  },
  {
   "cell_type": "code",
   "execution_count": null,
   "metadata": {
    "collapsed": false
   },
   "outputs": [],
   "source": [
    "def shannonIndexBiomass(speciesData, nodeConfig, biomassData):\n",
    "    numTimesteps = len(biomassData[nodeConfig[0]['nodeId']])\n",
    "    scores = np.zeros(numTimesteps)\n",
    "    \n",
    "    for timestep in range(numTimesteps):\n",
    "        speciesBiomass = np.empty(len(nodeConfig))\n",
    "        for i, node in enumerate(nodeConfig):\n",
    "            speciesBiomass[i] = max(0, biomassData[node['nodeId']][timestep])\n",
    "        totalBiomass = speciesBiomass.sum()\n",
    "        for i, node in enumerate(nodeConfig):\n",
    "            if speciesBiomass[i] <= 0:\n",
    "                continue\n",
    "            proportion = speciesBiomass[i] / totalBiomass\n",
    "            scores[timestep] -= proportion * log2(proportion)\n",
    "    \n",
    "    return scores"
   ]
  },
  {
   "cell_type": "markdown",
   "metadata": {},
   "source": [
    "Biomass-based Shannon index times total biomass\n",
    "---"
   ]
  },
  {
   "cell_type": "code",
   "execution_count": null,
   "metadata": {
    "collapsed": false
   },
   "outputs": [],
   "source": [
    "def shannonIndexBiomassProduct(speciesData, nodeConfig, biomassData):\n",
    "    numTimesteps = len(biomassData[nodeConfig[0]['nodeId']])\n",
    "    scores = np.zeros(numTimesteps)\n",
    "    \n",
    "    for timestep in range(numTimesteps):\n",
    "        speciesBiomass = np.empty(len(nodeConfig))\n",
    "        for i, node in enumerate(nodeConfig):\n",
    "            speciesBiomass[i] = max(0, biomassData[node['nodeId']][timestep])\n",
    "        totalBiomass = speciesBiomass.sum()\n",
    "        for i, node in enumerate(nodeConfig):\n",
    "            if speciesBiomass[i] <= 0:\n",
    "                continue\n",
    "            proportion = speciesBiomass[i] / totalBiomass\n",
    "            scores[timestep] -= proportion * log2(proportion)\n",
    "        scores[timestep] *= totalBiomass\n",
    "    \n",
    "    return scores"
   ]
  },
  {
   "cell_type": "markdown",
   "metadata": {},
   "source": [
    "Average of Shannon index by trophic level\n",
    "---"
   ]
  },
  {
   "cell_type": "code",
   "execution_count": 17,
   "metadata": {
    "collapsed": true
   },
   "outputs": [],
   "source": [
    "def avgShannonIndexByTrophicLevel(speciesData, nodeConfig, biomassData):\n",
    "    numTimesteps = len(biomassData[nodeConfig[0]['nodeId']])\n",
    "    scores = np.zeros(numTimesteps)\n",
    "    \n",
    "    for timestep in range(numTimesteps):\n",
    "        \n",
    "        # Organize species biomass values into lists by trophic level\n",
    "        sb = {}  # species biomass by trophic level\n",
    "        for i, node in enumerate(nodeConfig):\n",
    "            trophicLevel = round(speciesData[node['nodeId']]['trophicLevel'])\n",
    "            biomass = max(0, biomassData[node['nodeId']][timestep])\n",
    "            if trophicLevel not in sb:\n",
    "                sb[trophicLevel] = [biomass]\n",
    "            else:\n",
    "                sb[trophicLevel].append(biomass)\n",
    "        \n",
    "        # Calculate Shannon index for each trophic level\n",
    "        shannon = np.zeros(len(sb))  # note: index is not trophic level, which is not relevent at this point\n",
    "        for i, biomassList in enumerate(sb.values()):\n",
    "            totalBiomass = sum(biomassList)\n",
    "            for biomass in biomassList:\n",
    "                if biomass <= 0:\n",
    "                    continue\n",
    "                proportion = biomass / totalBiomass\n",
    "                shannon[i] -= proportion * log2(proportion)\n",
    "        \n",
    "        scores[timestep] = shannon.mean()\n",
    "        \n",
    "        if timestep % 100 == 0:\n",
    "            print(\"timestep {}\".format(timestep))\n",
    "            print(\"sb = {}\".format(sb))\n",
    "            print(\"shannon = {}\".format(shannon))\n",
    "    \n",
    "    return scores"
   ]
  },
  {
   "cell_type": "markdown",
   "metadata": {},
   "source": [
    "Net production\n",
    "---"
   ]
  },
  {
   "cell_type": "code",
   "execution_count": 16,
   "metadata": {
    "collapsed": false
   },
   "outputs": [],
   "source": [
    "def totalBiomass(speciesData, nodeConfig, biomassData):\n",
    "    \"\"\"\n",
    "    Return a time series of the total biomass of all species\n",
    "    \"\"\"\n",
    "    numTimesteps = len(biomassData[nodeConfig[0]['nodeId']])\n",
    "    totalBiomass = np.empty(numTimesteps)\n",
    "    for timestep in range(numTimesteps):\n",
    "        totalBiomass[timestep] = sum([biomass[timestep] for biomass in biomassData.values()])\n",
    "    return totalBiomass\n",
    "\n",
    "def netProduction(speciesData, nodeConfig, biomassData):\n",
    "    B = totalBiomass(speciesData, nodeConfig, biomassData)\n",
    "    netProd = B - np.roll(B, 1)\n",
    "    \n",
    "    # Can't really say that net production was equal to total biomass at t0\n",
    "    netProd[0] = netProd[-1] = 0\n",
    "    \n",
    "    return netProd"
   ]
  },
  {
   "cell_type": "markdown",
   "metadata": {},
   "source": [
    "Select score function and plot\n",
    "---"
   ]
  },
  {
   "cell_type": "code",
   "execution_count": 18,
   "metadata": {
    "collapsed": false,
    "scrolled": false
   },
   "outputs": [
    {
     "name": "stdout",
     "output_type": "stream",
     "text": [
      "timestep 0\n",
      "sb = {1: [1000.0], 2: [1751.0, 1415.0], 3: [240.0], 4: [2494.0]}\n",
      "shannon = [ 0.          0.99186009  0.          0.        ]\n",
      "timestep 100\n",
      "sb = {1: [119.0], 2: [1.0, 0], 3: [0], 4: [1214.0]}\n",
      "shannon = [ 0.  0.  0.  0.]\n",
      "timestep 200\n",
      "sb = {1: [10.0], 2: [1.0, 527.0], 3: [0], 4: [1121.0]}\n",
      "shannon = [ 0.          0.01985932  0.          0.        ]\n",
      "timestep 300\n",
      "sb = {1: [139.0], 2: [0, 0], 3: [0], 4: [322.0]}\n",
      "shannon = [ 0.  0.  0.  0.]\n",
      "timestep 400\n",
      "sb = {1: [2.0], 2: [0, 0], 3: [0], 4: [325.0]}\n",
      "shannon = [ 0.  0.  0.  0.]\n",
      "timestep 500\n",
      "sb = {1: [279.0], 2: [0, 0], 3: [0], 4: [69.0]}\n",
      "shannon = [ 0.  0.  0.  0.]\n",
      "timestep 600\n",
      "sb = {1: [2.0], 2: [0, 0], 3: [0], 4: [69.0]}\n",
      "shannon = [ 0.  0.  0.  0.]\n",
      "timestep 700\n",
      "sb = {1: [261.0], 2: [0, 0], 3: [0], 4: [15.0]}\n",
      "shannon = [ 0.  0.  0.  0.]\n",
      "timestep 800\n",
      "sb = {1: [1.0], 2: [0, 0], 3: [0], 4: [15.0]}\n",
      "shannon = [ 0.  0.  0.  0.]\n",
      "timestep 900\n",
      "sb = {1: [138.0], 2: [0, 0], 3: [0], 4: [3.0]}\n",
      "shannon = [ 0.  0.  0.  0.]\n"
     ]
    },
    {
     "name": "stderr",
     "output_type": "stream",
     "text": [
      "/home/ben/SFSU/fall2015/897 Research/atn-data/plot_atn_csv.py:80: RuntimeWarning: divide by zero encountered in log\n",
      "  t, np.log(scores))\n",
      "/home/ben/virtualenvs/scipy/lib/python3.4/site-packages/numpy/lib/function_base.py:599: RuntimeWarning: invalid value encountered in multiply\n",
      "  scl = np.multiply(avg, 0) + scl\n",
      "/home/ben/virtualenvs/scipy/lib/python3.4/site-packages/numpy/lib/function_base.py:2082: RuntimeWarning: invalid value encountered in subtract\n",
      "  X -= avg[:, None]\n"
     ]
    },
    {
     "data": {
      "image/png": "[encoded data removed]",
      "text/plain": [
       "<matplotlib.figure.Figure at 0x7f68a840c128>"
      ]
     },
     "metadata": {},
     "output_type": "display_data"
    },
    {
     "name": "stdout",
     "output_type": "stream",
     "text": [
      "TREND MEASURES:\n",
      "sum of derivative: -0.24796502322129066\n",
      "linear regression: slope = -2.7119593297160237e-05, intercept = 0.019545659568519877\n",
      "log-linear regression: slope = nan, intercept = nan\n",
      "regionAverages[-2] - regionAverages[1] = 0.0\n",
      "regionAverages[-2] / regionAverages[1] = 1.0\n",
      "average (excluding first timestep): 0.005757214908275325\n",
      "\n",
      "SPECIES DATA:\n",
      "{\n",
      "    \"5\": {\n",
      "        \"K\": 10000.0,\n",
      "        \"R\": 1.0,\n",
      "        \"initialBiomass\": 1000.0,\n",
      "        \"name\": \"Grass and Herbs\",\n",
      "        \"nodeId\": 5,\n",
      "        \"perUnitBiomass\": 1.0,\n",
      "        \"trophicLevel\": 1.0\n",
      "    },\n",
      "    \"14\": {\n",
      "        \"X\": 0.201,\n",
      "        \"initialBiomass\": 1751.0,\n",
      "        \"name\": \"Crickets\",\n",
      "        \"nodeId\": 14,\n",
      "        \"perUnitBiomass\": 20.0,\n",
      "        \"trophicLevel\": 2.125\n",
      "    },\n",
      "    \"31\": {\n",
      "        \"X\": 1.0,\n",
      "        \"initialBiomass\": 1415.0,\n",
      "        \"name\": \"Tree Mouse\",\n",
      "        \"nodeId\": 31,\n",
      "        \"perUnitBiomass\": 0.0075,\n",
      "        \"trophicLevel\": 2.38095\n",
      "    },\n",
      "    \"42\": {\n",
      "        \"X\": 0.637,\n",
      "        \"initialBiomass\": 240.0,\n",
      "        \"name\": \"African Grey Hornbill\",\n",
      "        \"nodeId\": 42,\n",
      "        \"perUnitBiomass\": 0.205,\n",
      "        \"trophicLevel\": 2.66657\n",
      "    },\n",
      "    \"70\": {\n",
      "        \"X\": 0.155,\n",
      "        \"initialBiomass\": 2494.0,\n",
      "        \"name\": \"African Clawless Otter\",\n",
      "        \"nodeId\": 70,\n",
      "        \"perUnitBiomass\": 13.0,\n",
      "        \"trophicLevel\": 3.53891\n",
      "    }\n",
      "}\n"
     ]
    }
   ],
   "source": [
    "scoreFunction = avgShannonIndexByTrophicLevel\n",
    "\n",
    "csvDir = '../data/set1/biomass-data'\n",
    "filenames = os.listdir(csvDir)\n",
    "filenames.sort(key=lambda f: getSimNumber(f))\n",
    "\n",
    "def plotFile(filename):\n",
    "    plotCsv(os.path.join(csvDir, filename), scoreFunction)\n",
    "\n",
    "selectWidget = interactive(plotFile, filename=widgets.Select(description=\"File\", options=filenames))\n",
    "display(selectWidget)\n"
   ]
  },
  {
   "cell_type": "markdown",
   "metadata": {
    "collapsed": false
   },
   "source": [
    "Shannon index test\n",
    "---\n",
    "Checking against first timestep of avgShannonIndexByTrophicLevel, set 1, sim 1, trophic level 2"
   ]
  },
  {
   "cell_type": "code",
   "execution_count": 12,
   "metadata": {
    "collapsed": false
   },
   "outputs": [
    {
     "name": "stdout",
     "output_type": "stream",
     "text": [
      "0.9918600928851626\n"
     ]
    }
   ],
   "source": [
    "blist = [1751.0, 1415.0]\n",
    "total = sum(blist)\n",
    "s = 0\n",
    "for b in blist:\n",
    "    proportion = b / total\n",
    "    s -= proportion * log2(proportion)\n",
    "print(s)"
   ]
  },
  {
   "cell_type": "code",
   "execution_count": null,
   "metadata": {
    "collapsed": false
   },
   "outputs": [],
   "source": []
  },
  {
   "cell_type": "code",
   "execution_count": null,
   "metadata": {
    "collapsed": true
   },
   "outputs": [],
   "source": []
  },
  {
   "cell_type": "code",
   "execution_count": null,
   "metadata": {
    "collapsed": true
   },
   "outputs": [],
   "source": []
  },
  {
   "cell_type": "code",
   "execution_count": null,
   "metadata": {
    "collapsed": true
   },
   "outputs": [],
   "source": []
  },
  {
   "cell_type": "code",
   "execution_count": null,
   "metadata": {
    "collapsed": true
   },
   "outputs": [],
   "source": []
  },
  {
   "cell_type": "code",
   "execution_count": null,
   "metadata": {
    "collapsed": true
   },
   "outputs": [],
   "source": []
  },
  {
   "cell_type": "code",
   "execution_count": null,
   "metadata": {
    "collapsed": true
   },
   "outputs": [],
   "source": []
  },
  {
   "cell_type": "code",
   "execution_count": null,
   "metadata": {
    "collapsed": true
   },
   "outputs": [],
   "source": []
  },
  {
   "cell_type": "code",
   "execution_count": null,
   "metadata": {
    "collapsed": false
   },
   "outputs": [],
   "source": []
  },
  {
   "cell_type": "markdown",
   "metadata": {
    "collapsed": true
   },
   "source": [
    "Net production trend\n",
    "---\n",
    "It seems strange that the net production trend tends to be slightly positive.\n",
    "The plot below demonstrates how the derivative of an exponentially decaying function has an upward trend.\n",
    "\n",
    "For net production, a simple average is more appropriate than a trend. It is negative, as expected."
   ]
  },
  {
   "cell_type": "code",
   "execution_count": 7,
   "metadata": {
    "collapsed": false
   },
   "outputs": [
    {
     "name": "stdout",
     "output_type": "stream",
     "text": [
      "slope = 2.3928571428571432\n",
      "average = -4.428571428571429\n"
     ]
    },
    {
     "data": {
      "image/png": "[encoded data removed]",
      "text/plain": [
       "<matplotlib.figure.Figure at 0x7f68a9a049e8>"
      ]
     },
     "metadata": {},
     "output_type": "display_data"
    }
   ],
   "source": [
    "y = np.array([32, 16, 8, 4, 2, 1, 1, 1])\n",
    "x = np.arange(len(y))\n",
    "dy = (y - np.roll(y, 1))[1:]\n",
    "plt.plot(x, y, label='y')\n",
    "plt.plot(x[1:], dy, label='dy')\n",
    "\n",
    "slope, intercept, r_value, p_value, std_err = stats.linregress(x[1:], dy)\n",
    "plt.plot(x[1:], x[1:] * slope + intercept, label='linear regression')\n",
    "\n",
    "plt.legend()\n",
    "\n",
    "print(\"slope = {}\".format(slope))\n",
    "print(\"average = {}\".format(np.mean(dy)))"
   ]
  },
  {
   "cell_type": "markdown",
   "metadata": {},
   "source": [
    "Splitting biomass between multiple species in the top trophic level lowers score\n",
    "---"
   ]
  },
  {
   "cell_type": "code",
   "execution_count": 9,
   "metadata": {
    "collapsed": false
   },
   "outputs": [
    {
     "name": "stdout",
     "output_type": "stream",
     "text": [
      "8000\n",
      "2000\n"
     ]
    }
   ],
   "source": [
    "print(20**3)\n",
    "print(10**3 + 10**3)"
   ]
  }
 ],
 "metadata": {
  "kernelspec": {
   "display_name": "Python 3",
   "language": "python",
   "name": "python3"
  },
  "language_info": {
   "codemirror_mode": {
    "name": "ipython",
    "version": 3
   },
   "file_extension": ".py",
   "mimetype": "text/x-python",
   "name": "python",
   "nbconvert_exporter": "python",
   "pygments_lexer": "ipython3",
   "version": "3.4.3"
  }
 },
 "nbformat": 4,
 "nbformat_minor": 0
}
