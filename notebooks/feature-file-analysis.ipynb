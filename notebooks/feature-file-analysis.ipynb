{
 "cells": [
  {
   "cell_type": "markdown",
   "metadata": {
    "collapsed": true
   },
   "source": [
    "Exploratory analysis of feature files\n",
    "---\n",
    "feature files created by create_feature_file.py"
   ]
  },
  {
   "cell_type": "code",
   "execution_count": 2,
   "metadata": {
    "collapsed": false,
    "scrolled": false
   },
   "outputs": [
    {
     "name": "stdout",
     "output_type": "stream",
     "text": [
      "Summary of environmentScoreSlope_1000_5000:\n",
      "count    39.000000\n",
      "mean     -1.088198\n",
      "std       1.785300\n",
      "min      -5.389948\n",
      "25%      -1.536576\n",
      "50%      -0.098896\n",
      "75%       0.114016\n",
      "max       0.846896\n",
      "Name: environmentScoreSlope_1000_5000, dtype: float64\n",
      "number of positive values: 15\n",
      "Top 5: \n",
      "26    ATN_673.csv.gz\n",
      "25    ATN_646.csv.gz\n",
      "34    ATN_856.csv.gz\n",
      "14    ATN_327.csv.gz\n",
      "7     ATN_151.csv.gz\n",
      "Name: filename, dtype: object\n",
      "\n"
     ]
    },
    {
     "data": {
      "image/png": "[encoded data removed]",
      "text/plain": [
       "<matplotlib.figure.Figure at 0x10e253978>"
      ]
     },
     "metadata": {},
     "output_type": "display_data"
    }
   ],
   "source": [
    "%matplotlib inline\n",
    "\n",
    "import pandas as pd\n",
    "import numpy as np\n",
    "from matplotlib import pyplot as plt\n",
    "\n",
    "#df = pd.read_csv('../data/box/10-species/31-44-45-47-49-50-66-75-1001-1005/set93/features.set93.labelled.csv')\n",
    "pd.read_csv('features.set100.labelled.csv')\n",
    "\n",
    "def summarize(col):\n",
    "    print(\"Summary of \" + col + \":\")\n",
    "    df[col].plot(kind='hist', alpha=0.5, legend=True, xlim=(-30, 30))  # NOTE: xlim is set specifically for first plot below\n",
    "    print(df[col].describe())\n",
    "    #print(\"first quartile: {}\".format(df[col].quantile(0.25)))\n",
    "    #print(\"last quartile: {}\".format(df[col].quantile(0.75)))\n",
    "    \n",
    "    positive = df[df[col] > 0]\n",
    "    print(\"number of positive values: {}\".format(positive[col].count()))\n",
    "    #print(positive['filename'])\n",
    "    \n",
    "    print(\"Top 5: \")\n",
    "    print(df.sort_values(col, ascending=False)['filename'][:5])\n",
    "    \n",
    "    print()\n",
    "\n",
    "def crosstab(col1, col2):\n",
    "    print(pd.crosstab(df[col1].replace(np.nan, 'unlabelled'),\n",
    "                      df[col2].replace(np.nan, 'unlabelled')))\n",
    "    print()\n",
    "    \n",
    "def compare(col1, col2):\n",
    "    \"\"\"\n",
    "    Do a comparison between the two given outcome measures (and labels derived therefrom)\n",
    "    \"\"\"\n",
    "    crosstab('label_'+ col1, 'label_' + col2)\n",
    "    plt.figure()\n",
    "    df.plot.scatter(col1, col2)\n",
    "    \n",
    "#summarize('maxBiomass')\n",
    "#summarize('lastNonzeroTimestep')\n",
    "\n",
    "#summarize('environmentScoreSlope_200_5000')\n",
    "summarize('environmentScoreSlope_1000_5000')\n",
    "#summarize('environmentScoreMean_4500_5000')\n",
    "#summarize('environmentScoreSlope_200_1000')\n",
    "\n",
    "# Compare 500, 1000, 5000 timesteps with slope\n",
    "#compare('environmentScoreSlope_200_1000', 'environmentScoreSlope_200_500')\n",
    "#compare('environmentScoreSlope_200_1000', 'environmentScoreSlope_200_5000')\n",
    "\n",
    "# Compare environment score mean to current slope-based label\n",
    "#compare('environmentScoreSlope_200_1000', 'environmentScoreMean_500_1000')\n",
    "#compare('environmentScoreSlope_200_1000', 'environmentScoreMean_4500_5000')\n",
    "\n",
    "# Compare environment score mean to long-slope-based label\n",
    "#compare('environmentScoreSlope_200_5000', 'environmentScoreMean_500_1000')\n",
    "#compare('environmentScoreSlope_200_5000', 'environmentScoreMean_4500_5000')\n",
    "\n",
    "# Compare 500, 1000, 5000 timesteps with means\n",
    "#compare('environmentScoreMean_500_1000', 'environmentScoreMean_0_500')\n",
    "#compare('environmentScoreMean_500_1000', 'environmentScoreMean_4500_5000')"
   ]
  },
  {
   "cell_type": "code",
   "execution_count": null,
   "metadata": {
    "collapsed": true
   },
   "outputs": [],
   "source": []
  }
 ],
 "metadata": {
  "kernelspec": {
   "display_name": "Python [default]",
   "language": "python",
   "name": "python3"
  },
  "language_info": {
   "codemirror_mode": {
    "name": "ipython",
    "version": 3
   },
   "file_extension": ".py",
   "mimetype": "text/x-python",
   "name": "python",
   "nbconvert_exporter": "python",
   "pygments_lexer": "ipython3",
   "version": "3.5.2"
  }
 },
 "nbformat": 4,
 "nbformat_minor": 0
}
