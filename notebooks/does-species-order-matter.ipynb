{
 "cells": [
  {
   "cell_type": "markdown",
   "metadata": {},
   "source": [
    "# Comparing files that differ only in species order"
   ]
  },
  {
   "cell_type": "code",
   "execution_count": 2,
   "metadata": {
    "collapsed": false
   },
   "outputs": [
    {
     "name": "stdout",
     "output_type": "stream",
     "text": [
      "File 1:\n"
     ]
    },
    {
     "data": {
      "text/html": [
       "<div>\n",
       "<table border=\"1\" class=\"dataframe\">\n",
       "  <thead>\n",
       "    <tr style=\"text-align: right;\">\n",
       "      <th></th>\n",
       "      <th>5</th>\n",
       "      <th>14</th>\n",
       "      <th>31</th>\n",
       "      <th>42</th>\n",
       "      <th>70</th>\n",
       "    </tr>\n",
       "  </thead>\n",
       "  <tbody>\n",
       "    <tr>\n",
       "      <th>0</th>\n",
       "      <td>2000</td>\n",
       "      <td>1751</td>\n",
       "      <td>1415</td>\n",
       "      <td>240</td>\n",
       "      <td>2494</td>\n",
       "    </tr>\n",
       "    <tr>\n",
       "      <th>1</th>\n",
       "      <td>1587</td>\n",
       "      <td>1476</td>\n",
       "      <td>1698</td>\n",
       "      <td>286</td>\n",
       "      <td>2665</td>\n",
       "    </tr>\n",
       "    <tr>\n",
       "      <th>2</th>\n",
       "      <td>1185</td>\n",
       "      <td>1163</td>\n",
       "      <td>1948</td>\n",
       "      <td>342</td>\n",
       "      <td>2852</td>\n",
       "    </tr>\n",
       "    <tr>\n",
       "      <th>3</th>\n",
       "      <td>819</td>\n",
       "      <td>842</td>\n",
       "      <td>2114</td>\n",
       "      <td>407</td>\n",
       "      <td>3055</td>\n",
       "    </tr>\n",
       "    <tr>\n",
       "      <th>4</th>\n",
       "      <td>513</td>\n",
       "      <td>548</td>\n",
       "      <td>2150</td>\n",
       "      <td>475</td>\n",
       "      <td>3274</td>\n",
       "    </tr>\n",
       "  </tbody>\n",
       "</table>\n",
       "</div>"
      ],
      "text/plain": [
       "     5     14    31   42    70\n",
       "0  2000  1751  1415  240  2494\n",
       "1  1587  1476  1698  286  2665\n",
       "2  1185  1163  1948  342  2852\n",
       "3   819   842  2114  407  3055\n",
       "4   513   548  2150  475  3274"
      ]
     },
     "metadata": {},
     "output_type": "display_data"
    },
    {
     "name": "stdout",
     "output_type": "stream",
     "text": [
      "File 2:\n"
     ]
    },
    {
     "data": {
      "text/html": [
       "<div>\n",
       "<table border=\"1\" class=\"dataframe\">\n",
       "  <thead>\n",
       "    <tr style=\"text-align: right;\">\n",
       "      <th></th>\n",
       "      <th>5</th>\n",
       "      <th>14</th>\n",
       "      <th>31</th>\n",
       "      <th>42</th>\n",
       "      <th>70</th>\n",
       "    </tr>\n",
       "  </thead>\n",
       "  <tbody>\n",
       "    <tr>\n",
       "      <th>0</th>\n",
       "      <td>2000</td>\n",
       "      <td>1751</td>\n",
       "      <td>1415</td>\n",
       "      <td>240</td>\n",
       "      <td>2494</td>\n",
       "    </tr>\n",
       "    <tr>\n",
       "      <th>1</th>\n",
       "      <td>1587</td>\n",
       "      <td>1476</td>\n",
       "      <td>1698</td>\n",
       "      <td>286</td>\n",
       "      <td>2665</td>\n",
       "    </tr>\n",
       "    <tr>\n",
       "      <th>2</th>\n",
       "      <td>1185</td>\n",
       "      <td>1163</td>\n",
       "      <td>1948</td>\n",
       "      <td>342</td>\n",
       "      <td>2852</td>\n",
       "    </tr>\n",
       "    <tr>\n",
       "      <th>3</th>\n",
       "      <td>819</td>\n",
       "      <td>842</td>\n",
       "      <td>2114</td>\n",
       "      <td>407</td>\n",
       "      <td>3055</td>\n",
       "    </tr>\n",
       "    <tr>\n",
       "      <th>4</th>\n",
       "      <td>513</td>\n",
       "      <td>548</td>\n",
       "      <td>2150</td>\n",
       "      <td>475</td>\n",
       "      <td>3274</td>\n",
       "    </tr>\n",
       "  </tbody>\n",
       "</table>\n",
       "</div>"
      ],
      "text/plain": [
       "     5     14    31   42    70\n",
       "0  2000  1751  1415  240  2494\n",
       "1  1587  1476  1698  286  2665\n",
       "2  1185  1163  1948  342  2852\n",
       "3   819   842  2114  407  3055\n",
       "4   513   548  2150  475  3274"
      ]
     },
     "metadata": {},
     "output_type": "display_data"
    },
    {
     "name": "stdout",
     "output_type": "stream",
     "text": [
      "Difference:\n"
     ]
    },
    {
     "data": {
      "text/html": [
       "<div>\n",
       "<table border=\"1\" class=\"dataframe\">\n",
       "  <thead>\n",
       "    <tr style=\"text-align: right;\">\n",
       "      <th></th>\n",
       "      <th>5</th>\n",
       "      <th>14</th>\n",
       "      <th>31</th>\n",
       "      <th>42</th>\n",
       "      <th>70</th>\n",
       "    </tr>\n",
       "  </thead>\n",
       "  <tbody>\n",
       "    <tr>\n",
       "      <th>0</th>\n",
       "      <td>0</td>\n",
       "      <td>0</td>\n",
       "      <td>0</td>\n",
       "      <td>0</td>\n",
       "      <td>0</td>\n",
       "    </tr>\n",
       "    <tr>\n",
       "      <th>1</th>\n",
       "      <td>0</td>\n",
       "      <td>0</td>\n",
       "      <td>0</td>\n",
       "      <td>0</td>\n",
       "      <td>0</td>\n",
       "    </tr>\n",
       "    <tr>\n",
       "      <th>2</th>\n",
       "      <td>0</td>\n",
       "      <td>0</td>\n",
       "      <td>0</td>\n",
       "      <td>0</td>\n",
       "      <td>0</td>\n",
       "    </tr>\n",
       "    <tr>\n",
       "      <th>3</th>\n",
       "      <td>0</td>\n",
       "      <td>0</td>\n",
       "      <td>0</td>\n",
       "      <td>0</td>\n",
       "      <td>0</td>\n",
       "    </tr>\n",
       "    <tr>\n",
       "      <th>4</th>\n",
       "      <td>0</td>\n",
       "      <td>0</td>\n",
       "      <td>0</td>\n",
       "      <td>0</td>\n",
       "      <td>0</td>\n",
       "    </tr>\n",
       "  </tbody>\n",
       "</table>\n",
       "</div>"
      ],
      "text/plain": [
       "   5   14  31  42  70\n",
       "0   0   0   0   0   0\n",
       "1   0   0   0   0   0\n",
       "2   0   0   0   0   0\n",
       "3   0   0   0   0   0\n",
       "4   0   0   0   0   0"
      ]
     },
     "metadata": {},
     "output_type": "display_data"
    }
   ],
   "source": [
    "from IPython.display import display\n",
    "import pandas as pd\n",
    "\n",
    "from atntools.create_feature_file import getSimulationData\n",
    "\n",
    "def show_comparison(f1, f2):\n",
    "    df1 = pd.DataFrame(getSimulationData(f1)[2])\n",
    "    df2 = pd.DataFrame(getSimulationData(f2)[2])\n",
    "    df3 = df1 - df2\n",
    "    print(\"File 1:\")\n",
    "    display(df1.head())\n",
    "    print(\"File 2:\")\n",
    "    display(df2.head())\n",
    "    print(\"Difference:\")\n",
    "    display(df3.head())\n",
    "\n",
    "# Compare shuffled versions of the same nodeconfig\n",
    "#show_comparison(\n",
    "#    '../data/set40/biomass-data/ATN.csv',\n",
    "#    '../data/set40/biomass-data/ATN_1.csv')\n",
    "\n",
    "# Same nodeconfig, only non-basal species shuffled\n",
    "#show_comparison(\n",
    "#    '../data/set41/biomass-data/ATN_1.csv',\n",
    "#    '../data/set41/biomass-data/ATN_6.csv')\n",
    "\n",
    "# Convergence ecosystem 0 (checking that default config produces same results in sets 1 and 42)\n",
    "# OK - they are identical\n",
    "#show_comparison(\n",
    "#    '../data/set1/biomass-data/ATN.csv',\n",
    "#    '../data/set42/biomass-data/ATN.csv')\n",
    "\n",
    "# Convergence ecosystem 0, non-basal species shuffled\n",
    "show_comparison(\n",
    "    '../../data/set42/biomass-data/ATN.csv.gz',\n",
    "    '../../data/set42/biomass-data/ATN_3.csv.gz')"
   ]
  },
  {
   "cell_type": "code",
   "execution_count": null,
   "metadata": {
    "collapsed": true
   },
   "outputs": [],
   "source": []
  }
 ],
 "metadata": {
  "anaconda-cloud": {},
  "kernelspec": {
   "display_name": "Python [default]",
   "language": "python",
   "name": "python3"
  },
  "language_info": {
   "codemirror_mode": {
    "name": "ipython",
    "version": 3
   },
   "file_extension": ".py",
   "mimetype": "text/x-python",
   "name": "python",
   "nbconvert_exporter": "python",
   "pygments_lexer": "ipython3",
   "version": "3.5.2"
  }
 },
 "nbformat": 4,
 "nbformat_minor": 0
}
