{
 "cells": [
  {
   "cell_type": "code",
   "execution_count": 3,
   "metadata": {
    "collapsed": false,
    "scrolled": false
   },
   "outputs": [
    {
     "name": "stdout",
     "output_type": "stream",
     "text": [
      "1      322.091320\n",
      "9      326.122955\n",
      "19     566.278521\n",
      "32     554.800374\n",
      "57    1557.309626\n",
      "61     423.013325\n",
      "64     400.739090\n",
      "dtype: float64\n",
      "4150.35521047\n",
      "4150.35521047\n"
     ]
    }
   ],
   "source": [
    "import numpy as np\n",
    "import pandas as pd\n",
    "\n",
    "from atntools.create_feature_file import getSimulationData\n",
    "\n",
    "nodeConfig, nodeConfigAttributes, biomassData = getSimulationData('../../data/test-data/ATN.csv')\n",
    "df1 = pd.DataFrame(biomassData)\n",
    "nodeConfig, nodeConfigAttributes, biomassData = getSimulationData('../../data/test-data/ATN_1000.csv')\n",
    "df2 = pd.DataFrame(biomassData)\n",
    "\n",
    "df3 = (df1 - df2) ** 2\n",
    "df4 = df3.mean()\n",
    "df5 = np.sqrt(df4)\n",
    "print(df5)\n",
    "rmse_sum_1 = sum(df5)\n",
    "\n",
    "# In one expression\n",
    "rmse_sum_2 = np.sum(np.sqrt(((df1 - df2) ** 2).mean()))\n",
    "\n",
    "print(rmse_sum_1)\n",
    "print(rmse_sum_2)"
   ]
  },
  {
   "cell_type": "code",
   "execution_count": null,
   "metadata": {
    "collapsed": true
   },
   "outputs": [],
   "source": []
  }
 ],
 "metadata": {
  "anaconda-cloud": {},
  "kernelspec": {
   "display_name": "Python [default]",
   "language": "python",
   "name": "python3"
  },
  "language_info": {
   "codemirror_mode": {
    "name": "ipython",
    "version": 3
   },
   "file_extension": ".py",
   "mimetype": "text/x-python",
   "name": "python",
   "nbconvert_exporter": "python",
   "pygments_lexer": "ipython3",
   "version": "3.5.2"
  }
 },
 "nbformat": 4,
 "nbformat_minor": 0
}
