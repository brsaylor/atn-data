{
 "cells": [
  {
   "cell_type": "code",
   "execution_count": 6,
   "metadata": {
    "collapsed": false
   },
   "outputs": [
    {
     "data": {
      "text/plain": [
       "count    107.000000\n",
       "mean       2.317339\n",
       "std        0.943411\n",
       "min        1.000000\n",
       "25%        1.500000\n",
       "50%        2.250000\n",
       "75%        3.244485\n",
       "max        3.790620\n",
       "Name: trophic_level, dtype: float64"
      ]
     },
     "execution_count": 6,
     "metadata": {},
     "output_type": "execute_result"
    }
   ],
   "source": [
    "%matplotlib inline\n",
    "\n",
    "import os\n",
    "import random\n",
    "from collections import OrderedDict\n",
    "from statistics import stdev, mean\n",
    "from math import log10\n",
    "import math\n",
    "\n",
    "import numpy as np\n",
    "import pandas as pd\n",
    "import networkx as nx\n",
    "from IPython.display import display\n",
    "import matplotlib.pyplot as plt\n",
    "\n",
    "import foodwebs\n",
    "\n",
    "def draw_food_web(graph):\n",
    "    \"\"\"\n",
    "    Note: Does not draw cannibalism loops\n",
    "    \"\"\"\n",
    "    pos = nx.spring_layout(graph)\n",
    "    \n",
    "    # Attempt at layout by trophic level. Doesn't work too well. Labels and edges overlap a lot.\n",
    "    #pos = {}\n",
    "    #count_by_trophic_level = {}\n",
    "    #for node, data in graph.nodes_iter(data=True):\n",
    "    #    trophic_level = float(data['trophic_level'])\n",
    "    #    rounded_trophic_level = round(trophic_level)\n",
    "    #    if rounded_trophic_level not in count_by_trophic_level:\n",
    "    #        count_by_trophic_level[rounded_trophic_level] = 1\n",
    "    #    else:\n",
    "    #        count_by_trophic_level[rounded_trophic_level] += 1\n",
    "    #    pos[node] = (count_by_trophic_level[rounded_trophic_level], trophic_level)\n",
    "    # Using the positions calculated above as initial positions for spring_layout destroys the trophic-level-y\n",
    "    #pos = nx.spring_layout(graph, pos=pos)\n",
    "    \n",
    "    # Instead, color nodes by trophic level.\n",
    "    \n",
    "    colors = [float(data['trophic_level']) * -1 + 5 for node, data in graph.nodes_iter(data=True)]\n",
    "    \n",
    "    nx.draw_networkx_nodes(graph, pos, node_color=colors, cmap='RdYlGn', vmin=1, vmax=4)\n",
    "    #nx.draw_networkx_nodes(graph, pos, node_size=colors)\n",
    "    nx.draw_networkx_edges(graph, pos)\n",
    "    nx.draw_networkx_labels(graph, pos, {node[0]: '  ' + node[1]['species_id'] + ' ' + node[1]['name'] for node in graph.nodes(data=True)})\n",
    "\n",
    "species_table = pd.read_csv(os.path.join(foodwebs.WOB_DB_DIR, 'species-table.csv'),\n",
    "                           index_col='species_id')\n",
    "#species_table.drop_duplicates(subset='species_id')\n",
    "def show_species_table(species_ids):\n",
    "    global species_table\n",
    "    df = species_table\n",
    "    display(df.loc[species_ids].sort_values('trophic_level', 0, False))\n",
    "\n",
    "serengeti = foodwebs.read_serengeti()\n",
    "serengeti_orig = serengeti.copy()\n",
    "\n",
    "# Remove isolated species from the full web\n",
    "serengeti.remove_nodes_from([54, 58, 62, 78, 79, 81, 84, 1006, 1007, 1008, 1009])\n",
    "\n",
    "def get_basal_species(graph):\n",
    "    basal_species = []\n",
    "    for species_id, species_attributes in graph.nodes_iter(data=True):\n",
    "        if float(species_attributes['trophic_level']) == 1:\n",
    "            basal_species.append(species_id)\n",
    "    return basal_species\n",
    "\n",
    "species_table['trophic_level'].describe()"
   ]
  },
  {
   "cell_type": "markdown",
   "metadata": {},
   "source": [
    "# Random subgraph\n",
    "\n",
    "As a starter exercise, generate a random subgraph of G by choosing N nodes at random, and including all of the existing edges between them. With the Serengeti food web, this usually results in few edges, and so is not useful in itself."
   ]
  },
  {
   "cell_type": "code",
   "execution_count": 2,
   "metadata": {
    "collapsed": false
   },
   "outputs": [
    {
     "data": {
      "image/png": "[encoded data removed]",
      "text/plain": [
       "<matplotlib.figure.Figure at 0x103d99e48>"
      ]
     },
     "metadata": {},
     "output_type": "display_data"
    }
   ],
   "source": [
    "def random_subgraph(graph, N):\n",
    "    nodes = random.sample(graph.nodes(), N)\n",
    "    return graph.subgraph(nodes)\n",
    "\n",
    "subweb = random_subgraph(serengeti, 5)\n",
    "draw_food_web(subweb)\n"
   ]
  },
  {
   "cell_type": "markdown",
   "metadata": {},
   "source": [
    "# Random connected subgraph\n",
    "\n",
    "Generate a random connected subgraph of G by choosing a node at random, and iteratively adding neighbors to the subgraph until N nodes have been added. This produces some potentially viable food webs, but doesn't guarantee adequate representation of all trophic levels (crucially, basal species aren't always included)."
   ]
  },
  {
   "cell_type": "code",
   "execution_count": 7,
   "metadata": {
    "collapsed": false
   },
   "outputs": [
    {
     "data": {
      "text/html": [
       "<div>\n",
       "<table border=\"1\" class=\"dataframe\">\n",
       "  <thead>\n",
       "    <tr style=\"text-align: right;\">\n",
       "      <th></th>\n",
       "      <th>name</th>\n",
       "      <th>organism_type</th>\n",
       "      <th>cost</th>\n",
       "      <th>description</th>\n",
       "      <th>category</th>\n",
       "      <th>biomass</th>\n",
       "      <th>diet_type</th>\n",
       "      <th>carrying_capacity</th>\n",
       "      <th>metabolism</th>\n",
       "      <th>trophic_level</th>\n",
       "      <th>growth_rate</th>\n",
       "      <th>model_id</th>\n",
       "      <th>unlock</th>\n",
       "      <th>node_id</th>\n",
       "    </tr>\n",
       "    <tr>\n",
       "      <th>species_id</th>\n",
       "      <th></th>\n",
       "      <th></th>\n",
       "      <th></th>\n",
       "      <th></th>\n",
       "      <th></th>\n",
       "      <th></th>\n",
       "      <th></th>\n",
       "      <th></th>\n",
       "      <th></th>\n",
       "      <th></th>\n",
       "      <th></th>\n",
       "      <th></th>\n",
       "      <th></th>\n",
       "      <th></th>\n",
       "    </tr>\n",
       "  </thead>\n",
       "  <tbody>\n",
       "    <tr>\n",
       "      <th>4</th>\n",
       "      <td>Bat-Eared Fox</td>\n",
       "      <td>0</td>\n",
       "      <td>50</td>\n",
       "      <td>The bat-eared fox is a canid of the African sa...</td>\n",
       "      <td>Large Animal</td>\n",
       "      <td>3.350</td>\n",
       "      <td>1</td>\n",
       "      <td>0</td>\n",
       "      <td>0.172989</td>\n",
       "      <td>3.55142</td>\n",
       "      <td>0</td>\n",
       "      <td>4</td>\n",
       "      <td>5</td>\n",
       "      <td>59</td>\n",
       "    </tr>\n",
       "    <tr>\n",
       "      <th>51</th>\n",
       "      <td>Hooded Vulture</td>\n",
       "      <td>0</td>\n",
       "      <td>20</td>\n",
       "      <td>The Hooded Vulture is an Old World vulture in ...</td>\n",
       "      <td>Bird</td>\n",
       "      <td>2.050</td>\n",
       "      <td>1</td>\n",
       "      <td>0</td>\n",
       "      <td>0.195588</td>\n",
       "      <td>3.50814</td>\n",
       "      <td>0</td>\n",
       "      <td>54</td>\n",
       "      <td>4</td>\n",
       "      <td>51</td>\n",
       "    </tr>\n",
       "    <tr>\n",
       "      <th>17</th>\n",
       "      <td>Praying Mantis</td>\n",
       "      <td>0</td>\n",
       "      <td>25</td>\n",
       "      <td>The praying mantis is named for its prominent ...</td>\n",
       "      <td>Insect</td>\n",
       "      <td>0.170</td>\n",
       "      <td>1</td>\n",
       "      <td>0</td>\n",
       "      <td>0.003313</td>\n",
       "      <td>3.25313</td>\n",
       "      <td>0</td>\n",
       "      <td>34</td>\n",
       "      <td>2</td>\n",
       "      <td>17</td>\n",
       "    </tr>\n",
       "    <tr>\n",
       "      <th>27</th>\n",
       "      <td>Yellow-Bellied Eremomela</td>\n",
       "      <td>0</td>\n",
       "      <td>10</td>\n",
       "      <td>The Yellow-bellied Eremomela is a common breed...</td>\n",
       "      <td>Bird</td>\n",
       "      <td>0.009</td>\n",
       "      <td>0</td>\n",
       "      <td>0</td>\n",
       "      <td>0.759836</td>\n",
       "      <td>2.78074</td>\n",
       "      <td>0</td>\n",
       "      <td>68</td>\n",
       "      <td>2</td>\n",
       "      <td>27</td>\n",
       "    </tr>\n",
       "    <tr>\n",
       "      <th>28</th>\n",
       "      <td>Red-Faced Crombec</td>\n",
       "      <td>0</td>\n",
       "      <td>15</td>\n",
       "      <td>The Red-faced Crombec is a species of African ...</td>\n",
       "      <td>Bird</td>\n",
       "      <td>0.010</td>\n",
       "      <td>2</td>\n",
       "      <td>0</td>\n",
       "      <td>0.740083</td>\n",
       "      <td>2.00000</td>\n",
       "      <td>0</td>\n",
       "      <td>69</td>\n",
       "      <td>0</td>\n",
       "      <td>28</td>\n",
       "    </tr>\n",
       "  </tbody>\n",
       "</table>\n",
       "</div>"
      ],
      "text/plain": [
       "                                name  organism_type  cost  \\\n",
       "species_id                                                  \n",
       "4                      Bat-Eared Fox              0    50   \n",
       "51                    Hooded Vulture              0    20   \n",
       "17                    Praying Mantis              0    25   \n",
       "27          Yellow-Bellied Eremomela              0    10   \n",
       "28                 Red-Faced Crombec              0    15   \n",
       "\n",
       "                                                  description      category  \\\n",
       "species_id                                                                    \n",
       "4           The bat-eared fox is a canid of the African sa...  Large Animal   \n",
       "51          The Hooded Vulture is an Old World vulture in ...          Bird   \n",
       "17          The praying mantis is named for its prominent ...        Insect   \n",
       "27          The Yellow-bellied Eremomela is a common breed...          Bird   \n",
       "28          The Red-faced Crombec is a species of African ...          Bird   \n",
       "\n",
       "            biomass  diet_type  carrying_capacity  metabolism  trophic_level  \\\n",
       "species_id                                                                     \n",
       "4             3.350          1                  0    0.172989        3.55142   \n",
       "51            2.050          1                  0    0.195588        3.50814   \n",
       "17            0.170          1                  0    0.003313        3.25313   \n",
       "27            0.009          0                  0    0.759836        2.78074   \n",
       "28            0.010          2                  0    0.740083        2.00000   \n",
       "\n",
       "            growth_rate  model_id  unlock  node_id  \n",
       "species_id                                          \n",
       "4                     0         4       5       59  \n",
       "51                    0        54       4       51  \n",
       "17                    0        34       2       17  \n",
       "27                    0        68       2       27  \n",
       "28                    0        69       0       28  "
      ]
     },
     "metadata": {},
     "output_type": "display_data"
    },
    {
     "data": {
      "image/png": "[encoded data removed]",
      "text/plain": [
       "<matplotlib.figure.Figure at 0x10fb50b00>"
      ]
     },
     "metadata": {},
     "output_type": "display_data"
    }
   ],
   "source": [
    "def random_connected_subgraph(G, N, seed_nodes=None, retry=1):\n",
    "    \"\"\"seed_nodes: list of nodes from which to randomly choose a starting node\"\"\"\n",
    "    \n",
    "    if seed_nodes is None:\n",
    "        seed_nodes = G.nodes()\n",
    "    nodes = set([random.choice(seed_nodes)])\n",
    "    \n",
    "    for i in range(N-1):\n",
    "        \n",
    "        # Find the neighbor nodes of the subgraph nodes\n",
    "        neighbors = set()\n",
    "        for node in nodes:\n",
    "            neighbors = neighbors | set(G.predecessors(node) + G.successors(node))\n",
    "        neighbors = neighbors - nodes # Exclude nodes already in the subgraph\n",
    "        \n",
    "        if len(neighbors) == 0:\n",
    "            print(\"random_connected_subgraph: no candidate neighbors found. \", end='')\n",
    "            if (retry > 0):\n",
    "                print(\"Retrying.\")\n",
    "                return random_connected_subgraph(G, N, seed_nodes, retry - 1)\n",
    "            else:\n",
    "                print(\"Giving up.\")\n",
    "                return None\n",
    "\n",
    "        # Add a random neighbor to the subgraph\n",
    "        nodes.add(random.choice(list(neighbors)))\n",
    "    \n",
    "    return G.subgraph(list(nodes))\n",
    "\n",
    "subweb = random_connected_subgraph(serengeti, 5)\n",
    "\n",
    "draw_food_web(subweb)\n",
    "show_species_table([int(species_id) for species_id in subweb.nodes()])"
   ]
  },
  {
   "cell_type": "markdown",
   "metadata": {},
   "source": [
    "# Random successor subgraph\n",
    "\n",
    "Generate a random connected subgraph of the given graph. On each iteration, choose only successors to nodes currently in the subgraph."
   ]
  },
  {
   "cell_type": "code",
   "execution_count": null,
   "metadata": {
    "collapsed": false
   },
   "outputs": [],
   "source": [
    "def random_successor_subgraph(G, N, seed_nodes=None, seed_size=1, retry=1):\n",
    "    \"\"\"seed_nodes: list of nodes from which to randomly choose seed_size starting nodes\"\"\"\n",
    "    \n",
    "    if seed_nodes is None:\n",
    "        seed_nodes = G.nodes()\n",
    "    nodes = set(random.sample(seed_nodes, seed_size))\n",
    "    \n",
    "    for i in range(N - seed_size):\n",
    "        \n",
    "        # Find the neighbor nodes of the subgraph nodes\n",
    "        neighbors = set()\n",
    "        for node in nodes:\n",
    "            neighbors = neighbors | set(G.successors(node))\n",
    "        neighbors = neighbors - nodes # Exclude nodes already in the subgraph\n",
    "        \n",
    "        if len(neighbors) == 0:\n",
    "            print(\"random_successor_subgraph: no candidate neighbors found. \", end='')\n",
    "            if (retry > 0):\n",
    "                print(\"Retrying.\")\n",
    "                return random_successor_subgraph(G, N, seed_nodes, seed_size=seed_size,\n",
    "                                                 retry=retry-1)\n",
    "            else:\n",
    "                print(\"Giving up.\")\n",
    "                return None\n",
    "\n",
    "        # Add a random neighbor to the subgraph\n",
    "        nodes.add(random.choice(list(neighbors)))\n",
    "    \n",
    "    subgraph = G.subgraph(list(nodes))\n",
    "    num_components = nx.number_connected_components(subgraph.to_undirected())\n",
    "    if num_components > 1:\n",
    "        print(\"random_successor_subgraph: {} connected components. \".format(num_components),\n",
    "              end='')\n",
    "        if (retry > 0):\n",
    "            print(\"Retrying.\")\n",
    "            return random_successor_subgraph(G, N, seed_nodes, seed_size=seed_size,\n",
    "                                             retry=retry-1)\n",
    "        else:\n",
    "            print(\"Giving up.\")\n",
    "            return None\n",
    "    \n",
    "    return subgraph\n",
    "\n",
    "# For the seed nodes, use the basal species excluding Decaying Material (89)\n",
    "seed_nodes = get_basal_species(serengeti)\n",
    "if 89 in seed_nodes:\n",
    "    seed_nodes.remove(89)\n",
    "    \n",
    "subweb = random_successor_subgraph(serengeti, 6, seed_nodes=seed_nodes, seed_size=1, retry=3)\n",
    "\n",
    "draw_food_web(subweb)\n",
    "print(str(subweb.nodes))"
   ]
  },
  {
   "cell_type": "markdown",
   "metadata": {},
   "source": [
    "# Finding all simple paths (food chains) from a basal species"
   ]
  },
  {
   "cell_type": "code",
   "execution_count": null,
   "metadata": {
    "collapsed": false
   },
   "outputs": [],
   "source": [
    "def all_simple_paths_from(graph, source, visited=set()):\n",
    "    paths = []\n",
    "    for successor in graph.successors(source):\n",
    "        if successor not in visited and successor != source:\n",
    "            paths.append([source, successor])\n",
    "            for successor_path in all_simple_paths_from(graph, successor, visited | set([source])):\n",
    "                paths.append([source] + successor_path)\n",
    "    return paths\n",
    "\n",
    "# Visual testing\n",
    "graph = nx.fast_gnp_random_graph(5, 0.25, directed=True)\n",
    "nx.draw_networkx(graph)\n",
    "print(all_simple_paths_from(graph, 0))"
   ]
  },
  {
   "cell_type": "markdown",
   "metadata": {},
   "source": [
    "# Simple cycles"
   ]
  },
  {
   "cell_type": "code",
   "execution_count": null,
   "metadata": {
    "collapsed": false
   },
   "outputs": [],
   "source": [
    "graph = nx.fast_gnp_random_graph(5, 0.25, directed=True)\n",
    "\n",
    "# Add a self-loop to node 0. We want to exclude self-loops from food chain loops.\n",
    "graph.add_edge(0, 0)\n",
    "# It ends up being counted as a simple cycle. Can simply exclude cycles with length 1.\n",
    "\n",
    "nx.draw_networkx(graph)\n",
    "\n",
    "print(list(nx.simple_cycles(graph)))"
   ]
  },
  {
   "cell_type": "markdown",
   "metadata": {},
   "source": [
    "# Adding nodes to subgraphs along with edges"
   ]
  },
  {
   "cell_type": "code",
   "execution_count": null,
   "metadata": {
    "collapsed": false
   },
   "outputs": [],
   "source": [
    "g = nx.DiGraph()\n",
    "g.add_node(3, {'something': 'hello', 'else': 'world'})\n",
    "g.add_edge(1,2)\n",
    "g.add_edge(2,3)\n",
    "g.add_edge(3,4)\n",
    "g.add_edge(4,1)\n",
    "g.add_edge(3,1)\n",
    "plt.figure()\n",
    "nx.draw_networkx(g)\n",
    "\n",
    "def add_node_with_edges(graph, subgraph, node):\n",
    "    \"\"\"Add a node from a directed graph to a subgraph of it, along with all edges from the original graph\n",
    "    that are adjacent to that node and another node existing in the subgraph.\n",
    "    \"\"\"\n",
    "    subgraph.add_node(node)\n",
    "    for edge in graph.out_edges_iter(node):\n",
    "        if subgraph.has_node(edge[1]):\n",
    "            subgraph.add_edge(*edge)\n",
    "    for edge in graph.in_edges_iter(node):\n",
    "        if subgraph.has_node(edge[0]):\n",
    "            subgraph.add_edge(*edge)\n",
    "\n",
    "plt.figure()\n",
    "h = g.subgraph([1, 3])\n",
    "nx.draw_networkx(h)\n",
    "plt.figure()\n",
    "add_node_with_edges(g, h, 2)\n",
    "#add_node_with_edges(g, h, 3)\n",
    "#add_node_with_edges(g, h, 4)\n",
    "nx.draw_networkx(h)\n",
    "\n",
    "# Demonstrate how to copy the attributes of a node from one graph to another\n",
    "h.node[3] = g.node[3]\n",
    "print(h.node[3])"
   ]
  },
  {
   "cell_type": "markdown",
   "metadata": {},
   "source": [
    "# Completing food chains of a graph\n",
    "\n",
    "The most important constraint of a food web is that there are no incomplete food chains. This function takes a graph and returns a new graph in which all food chains are completed by adding nodes, if necessary."
   ]
  },
  {
   "cell_type": "code",
   "execution_count": null,
   "metadata": {
    "collapsed": false,
    "scrolled": false
   },
   "outputs": [],
   "source": [
    "def get_source_nodes(graph, allow_selfloops=True):\n",
    "    \"\"\"Get the source nodes (nodes with no in-edges) of the given graph.\n",
    "    If allow_selfloops is True, a node whose only in-edge is a self-loop is also considered a source node.\n",
    "    \"\"\"\n",
    "    source_nodes = []\n",
    "    for node, in_degree in graph.in_degree_iter():\n",
    "        if in_degree == 0:\n",
    "            source_nodes.append(node)\n",
    "    if allow_selfloops:\n",
    "        for node, in_degree in graph.in_degree_iter(graph.nodes_with_selfloops()):\n",
    "            if in_degree == 1:\n",
    "                source_nodes.append(node)\n",
    "    return source_nodes\n",
    "\n",
    "def complete_food_chains(full_graph, subgraph):\n",
    "    \n",
    "    # Make a copy of the subgraph to modify and return\n",
    "    subgraph2 = subgraph.copy()\n",
    "    \n",
    "    # Get the source nodes in the subgraph which are consumers (non-plants).\n",
    "    # The goal is to have none of these, at which point all food chains will be complete.\n",
    "    consumer_source_nodes = []\n",
    "    source_nodes = get_source_nodes(subgraph2)\n",
    "    for node in source_nodes:\n",
    "        if float(subgraph2.node[node]['trophic_level']) > 1:\n",
    "            consumer_source_nodes.append(node)\n",
    "    \n",
    "    # Add predecessors to consumer source nodes until there are no consumer source nodes left.\n",
    "    while len(consumer_source_nodes) > 0:\n",
    "        \n",
    "        # Choose a random consumer source node\n",
    "        consumer_node = random.choice(consumer_source_nodes)\n",
    "        consumer_source_nodes.remove(consumer_node)\n",
    "        \n",
    "        # Add a random predecessor and associated edges\n",
    "        new_node = random.choice(full_graph.predecessors(consumer_node))\n",
    "        add_node_with_edges(full_graph, subgraph2, new_node)\n",
    "        subgraph2.node[new_node] = full_graph.node[new_node] # Copy node attributes\n",
    "        \n",
    "        # If the new node is also a consumer source node, add it to the list\n",
    "        if float(subgraph2.node[new_node]['trophic_level']) > 1:\n",
    "            consumer_source_nodes.append(new_node)\n",
    "                \n",
    "    return subgraph2\n",
    "\n",
    "subweb = random_connected_subgraph(serengeti, 4)\n",
    "complete_subweb = complete_food_chains(serengeti, subweb)\n",
    "\n",
    "draw_food_web(subweb)\n",
    "plt.figure()\n",
    "draw_food_web(complete_subweb)"
   ]
  },
  {
   "cell_type": "markdown",
   "metadata": {},
   "source": [
    "# Structural properties of food webs\n",
    "\n",
    "Williams & Martinez 2000 define 12 properties of the network structure of food webs."
   ]
  },
  {
   "cell_type": "code",
   "execution_count": null,
   "metadata": {
    "collapsed": false
   },
   "outputs": [],
   "source": [
    "def get_food_chains(graph):\n",
    "    \"\"\"\n",
    "    Return all food chains in the graph, as a list of lists of nodes.\n",
    "    A food chain is defined here as a simple path from a source node\n",
    "    (a node with no predecessors) to another node.\n",
    "    NOTE: The source node is not required to be a basal species.\n",
    "    \"\"\"\n",
    "    food_chains = []\n",
    "    for source in get_source_nodes(graph):\n",
    "        food_chains += all_simple_paths_from(graph, source)\n",
    "    return food_chains\n",
    "\n",
    "def get_loops(graph):\n",
    "    \"\"\"\n",
    "    Return a list of all simple cycles in the graph with more than one node.\n",
    "    \"\"\"\n",
    "    return [cycle for cycle in nx.simple_cycles(graph) if len(cycle) > 1]\n",
    "\n",
    "def food_web_properties(graph):\n",
    "    \n",
    "    species_count = graph.number_of_nodes()\n",
    "    link_count = graph.size() # Yes, graph.size() is the number of edges\n",
    "    \n",
    "    consumers_without_prey = []\n",
    "    \n",
    "    top_predator_count = 0\n",
    "    intermediate_species_count = 0\n",
    "    basal_species_count = 0\n",
    "    generality = [None] * species_count\n",
    "    vulnerability = [None] * species_count\n",
    "    max_similarity = [None] * species_count\n",
    "    \n",
    "    food_chains = get_food_chains(graph)                  \n",
    "    #print(\"Food chains: {}\\n\".format(food_chains))\n",
    "    food_chain_lengths = [len(chain) - 1 for chain in food_chains] # subtract 1 to count edges\n",
    "    \n",
    "    loops = get_loops(graph)\n",
    "    species_in_loops = set()\n",
    "    for loop in loops:\n",
    "        species_in_loops |= set(loop)\n",
    "    #print(\"Loops: {}\\n\".format(loops))\n",
    "    #print(\"Species in loops: {}\\n\".format(species_in_loops))\n",
    "    \n",
    "    # Species with multiple prey and food chains of different lengths\n",
    "    omnivores = []\n",
    "    # Food chains indexed by ID of the species at the top\n",
    "    food_chains_by_species = {}\n",
    "    for chain in food_chains:\n",
    "        species_id = chain[-1]\n",
    "        if species_id not in food_chains_by_species:\n",
    "            food_chains_by_species[species_id] = []\n",
    "        food_chains_by_species[chain[-1]].append(chain)\n",
    "    #print(\"Food chains by species: {}\".format(food_chains_by_species))\n",
    "    \n",
    "    for i, (species_id, species_attributes) in enumerate(graph.nodes(data=True)):\n",
    "        predators = graph.successors(species_id)\n",
    "        prey = graph.predecessors(species_id)\n",
    "        trophic_level = float(species_attributes['trophic_level'])\n",
    "        \n",
    "        if trophic_level > 1 and (len(prey) == 0 or\n",
    "                                  # Cannibal with no other prey in the subweb:\n",
    "                                  (len(prey) == 1 and prey[0] == species_id)):\n",
    "            consumers_without_prey.append(species_id)\n",
    "        \n",
    "        # Identify top predators by their position in this sub-web\n",
    "        if (len(predators) == 0 or\n",
    "                # Allow for cannibalism in top predators\n",
    "                (len(predators) == 1 and predators[0] == species_id)):\n",
    "            top_predator_count += 1\n",
    "            \n",
    "        # Identify basal species by trophic level in the full Serengeti food web\n",
    "        elif trophic_level == 1:\n",
    "            basal_species_count += 1\n",
    "            \n",
    "        # Count all other species as intermediate\n",
    "        else:\n",
    "            intermediate_species_count += 1\n",
    "            \n",
    "        generality[i] = len(prey) / (link_count / species_count)\n",
    "        vulnerability[i] = len(predators) / (link_count / species_count)\n",
    "        \n",
    "        # Trophic similarity of a pair of species (s[i,j]) is the number of\n",
    "        # predators and prey shared in common divided by the pair's total\n",
    "        # number of predators and prey. (Williams & Martinez 2000)\n",
    "        # FIXME: This could probably be much more efficient with matrices\n",
    "        trophic_similarity = [None] * species_count\n",
    "        for j, j_species_id in enumerate(graph.nodes()):\n",
    "            if j == i:\n",
    "                trophic_similarity[j] = 0\n",
    "                continue\n",
    "            j_predators = graph.successors(j_species_id)\n",
    "            j_prey = graph.predecessors(j_species_id)\n",
    "            shared_predators = set(predators) & set(j_predators)\n",
    "            shared_prey = set(prey) & set(j_prey)\n",
    "            total_predators = set(predators + j_predators)\n",
    "            total_prey = set(prey + j_prey)\n",
    "            \n",
    "            # TODO: Is this interpretation correct?\n",
    "            shared_count = len(shared_predators) + len(shared_prey)\n",
    "            total_count = len(total_predators)  + len(total_prey)\n",
    "            if total_count == 0:\n",
    "                trophic_similarity[j] = 0.0\n",
    "            else:\n",
    "                trophic_similarity[j] = shared_count / total_count\n",
    "   \n",
    "        max_similarity[i] = max(trophic_similarity)\n",
    "    \n",
    "        # Omnivory\n",
    "        if len(prey) > 1:\n",
    "                             # subtract 1 to count edges\n",
    "            chain_lengths = [len(chain) - 1 for chain in food_chains_by_species.get(species_id, [])]\n",
    "            if len(set(chain_lengths)) > 1:\n",
    "                omnivores.append(species_id)\n",
    "    \n",
    "    #print(\"Omnivores: {}\".format(omnivores))\n",
    "    \n",
    "    #print(\"Consumers without prey: {}\".format(consumers_without_prey))\n",
    "            \n",
    "    props = OrderedDict()\n",
    "    props['species_count'] = species_count\n",
    "    props['link_count'] = link_count\n",
    "    props['connectance'] = link_count / species_count ** 2\n",
    "    props['frac_top_pred'] = top_predator_count / species_count\n",
    "    props['frac_intermed'] = intermediate_species_count / species_count\n",
    "    props['frac_basal'] = basal_species_count / species_count\n",
    "    props['GenSD'] = stdev(generality)\n",
    "    props['VulSD'] = stdev(vulnerability)\n",
    "    props['MxSim'] = sum(max_similarity) / species_count\n",
    "    props['ChnLg'] = mean(food_chain_lengths)\n",
    "    props['ChnSD'] = stdev(food_chain_lengths)\n",
    "    props['ChnNo'] = log10(len(food_chains))\n",
    "    props['Cannib'] = graph.number_of_selfloops() / species_count\n",
    "    props['Loop'] = len(species_in_loops) / species_count\n",
    "    props['Omniv'] = len(omnivores) / species_count\n",
    "    #props['food_chains'] = sorted(food_chains, key=len, reverse=True)\n",
    "    \n",
    "    return props\n",
    "\n",
    "def print_food_web_properties(properties):\n",
    "    print(\"Properties\\n------------------\")\n",
    "    for k, v in properties.items():\n",
    "        if isinstance(v, float) or isinstance(v, int):\n",
    "            print(\"{:15s} {:.4f}\".format(k, v))\n",
    "        elif k == 'food_chains':\n",
    "            print(\"{:15s} Food chains:\")\n",
    "            if len(v) > 20:\n",
    "                print(\"More than 20\")\n",
    "            else:\n",
    "                for chain in v:\n",
    "                    print(\"{:15s} {}\".format('', chain))\n",
    "\n",
    "basal_species = get_basal_species(serengeti)\n",
    "#subweb = random_connected_subgraph(serengeti, 6, basal_species, retry=3)\n",
    "#subweb = random_successor_subgraph(serengeti, 6, basal_species, retry=3)\n",
    "subweb = complete_food_chains(serengeti, random_connected_subgraph(serengeti, 6))\n",
    "draw_food_web(subweb)\n",
    "\n",
    "properties = food_web_properties(subweb)\n",
    "print_food_web_properties(properties)"
   ]
  },
  {
   "cell_type": "markdown",
   "metadata": {},
   "source": [
    "# Properties of full Serengeti food web"
   ]
  },
  {
   "cell_type": "code",
   "execution_count": null,
   "metadata": {
    "collapsed": false
   },
   "outputs": [],
   "source": [
    "#print(\"ORIGINAL SERENGETI FOOD WEB\")\n",
    "#print_food_web_properties(food_web_properties(serengeti_orig))\n",
    "#print()\n",
    "print(\"PRUNED SERENGETI FOOD WEB\")\n",
    "serengeti_properties = food_web_properties(serengeti)\n",
    "print_food_web_properties(serengeti_properties)"
   ]
  },
  {
   "cell_type": "markdown",
   "metadata": {},
   "source": [
    "## Components"
   ]
  },
  {
   "cell_type": "code",
   "execution_count": null,
   "metadata": {
    "collapsed": false
   },
   "outputs": [],
   "source": [
    "serengeti_u = serengeti.to_undirected()\n",
    "components = list(nx.connected_component_subgraphs(serengeti_u))\n",
    "print(\"Number of components: {}\".format(len(components)))\n",
    "print(\"Sizes: {}\".format([g.number_of_nodes() for g in components]))\n",
    "\n",
    "for component in components:\n",
    "    plt.figure()\n",
    "    draw_food_web(component)\n",
    "    \n",
    "# Originally, this revealed 11 isolated species, now removed in the first cell of code"
   ]
  },
  {
   "cell_type": "markdown",
   "metadata": {},
   "source": [
    "# Generate and compare food sub-webs, compare to Serengeti\n",
    "\n",
    "## Generate and save the data"
   ]
  },
  {
   "cell_type": "code",
   "execution_count": null,
   "metadata": {
    "collapsed": false
   },
   "outputs": [],
   "source": [
    "foodweb_count = 1001\n",
    "df = pd.DataFrame(index=np.arange(foodweb_count), columns=['species_list'] + list(serengeti_properties.keys()))\n",
    "df.loc[0] = serengeti_properties\n",
    "for i in range(1, foodweb_count):\n",
    "    desired_species_count = random.randint(3, 86)\n",
    "    subweb = complete_food_chains(serengeti, random_connected_subgraph(serengeti, desired_species_count))\n",
    "    data = food_web_properties(subweb)\n",
    "    data['species_list'] = ' '.join([str(i) for i in sorted(subweb.nodes())])\n",
    "    df.loc[i] = data\n",
    "    \n",
    "df.to_csv('food-webs-{}.csv'.format(foodweb_count))"
   ]
  },
  {
   "cell_type": "markdown",
   "metadata": {},
   "source": [
    "## Plot properties"
   ]
  },
  {
   "cell_type": "code",
   "execution_count": null,
   "metadata": {
    "collapsed": false,
    "scrolled": false
   },
   "outputs": [],
   "source": [
    "properties_to_plot = [\n",
    "    'link_count',\n",
    "    'connectance',\n",
    "    'frac_top_pred',\n",
    "    'frac_intermed',\n",
    "    'frac_basal',\n",
    "    'GenSD',\n",
    "    'VulSD',\n",
    "    'MxSim',\n",
    "    'ChnLg',\n",
    "    'ChnSD',\n",
    "    'ChnNo',\n",
    "    'Cannib',\n",
    "    'Loop',\n",
    "    'Omniv',\n",
    "]\n",
    "\n",
    "fig, axes = plt.subplots(nrows=math.ceil(len(properties_to_plot)/2), ncols=2)\n",
    "\n",
    "for i, prop in enumerate(properties_to_plot):\n",
    "    df.plot.scatter('species_count', prop, ax=axes[i // 2, i % 2], figsize=(14,30))"
   ]
  },
  {
   "cell_type": "markdown",
   "metadata": {
    "collapsed": true
   },
   "source": [
    "Pick some"
   ]
  },
  {
   "cell_type": "code",
   "execution_count": null,
   "metadata": {
    "collapsed": false
   },
   "outputs": [],
   "source": [
    "df7 = df.loc[df['species_count'] == 7]\n",
    "#df7 = df.query('species_count == 7 and frac_intermed > 2 * frac_top_pred')\n",
    "display(df.iloc[0])\n",
    "df7 = df7.assign(ratio_top_intermed = df7['frac_top_pred'] / df7['frac_intermed'])\n",
    "df7 = df7.loc[df7['ratio_top_intermed'] <= 0.5]\n",
    "display(df7)\n",
    "df7.describe()"
   ]
  },
  {
   "cell_type": "markdown",
   "metadata": {},
   "source": [
    "# Calculating trophic levels"
   ]
  },
  {
   "cell_type": "code",
   "execution_count": null,
   "metadata": {
    "collapsed": false
   },
   "outputs": [],
   "source": [
    "def calc_trophic_level(node, graph, visited=set()):\n",
    "    species = graph.node[node]\n",
    "    if 'calc_trophic_level' in species:\n",
    "        return species['calc_trophic_level']  # Return memoized value\n",
    "    \n",
    "    # Track the nodes visited along this path to avoid getting stuck in trophic loops\n",
    "    visited = visited | {node}\n",
    "    \n",
    "    prey = set(graph.predecessors(node)) - visited\n",
    "    if len(prey) == 0:\n",
    "        level = 1  # basal species\n",
    "    else:\n",
    "        level = 1 + mean([calc_trophic_level(n, graph, visited) for n in prey])\n",
    "    species['calc_trophic_level'] = level  # Memoize\n",
    "    return level\n",
    "\n",
    "def get_top_predators(graph):\n",
    "    top = []\n",
    "    for node, out_degree in graph.out_degree_iter():\n",
    "        if out_degree == 0 or (\n",
    "                # Top predator with cannibalism\n",
    "                out_degree == 1 and graph.successors(node)[0] == node):\n",
    "            top.append(node)\n",
    "    return top\n",
    "\n",
    "for node in get_top_predators(serengeti):\n",
    "    calc_trophic_level(node, serengeti)\n",
    "\n",
    "species_table['calc_trophic_level'] = None\n",
    "for node, species in serengeti.nodes_iter(data=True):\n",
    "    species_table.set_value(node, 'calc_trophic_level', species['calc_trophic_level'])\n",
    "species_table['calc_trophic_level_err'] = species_table['calc_trophic_level'] - species_table['trophic_level']\n",
    "species_table['calc_trophic_level_err2'] = species_table['calc_trophic_level_err'] ** 2\n",
    "rmse = math.sqrt(species_table['calc_trophic_level_err2'].mean())\n",
    "print(\"Root mean squared error: {}\".format(rmse))\n",
    "print(\"Bias (mean error): {}\".format(species_table['calc_trophic_level_err'].mean()))\n",
    "species_table.plot.scatter('trophic_level', 'calc_trophic_level_err')"
   ]
  },
  {
   "cell_type": "code",
   "execution_count": null,
   "metadata": {
    "collapsed": false
   },
   "outputs": [],
   "source": [
    "species_table.loc[:, ('name', 'trophic_level', 'calc_trophic_level', 'calc_trophic_level_err2')].to_csv('calc_trophic_level.csv')"
   ]
  },
  {
   "cell_type": "markdown",
   "metadata": {
    "collapsed": false
   },
   "source": [
    "# Topological sort\n",
    "\n",
    "This puts prey before predators. Hoped it would fix bad ATNEngine behavior, but it doesn't."
   ]
  },
  {
   "cell_type": "code",
   "execution_count": null,
   "metadata": {
    "collapsed": false
   },
   "outputs": [],
   "source": [
    "subgraph_nodes = map(int, '64 16 26 69 87 1001 42 1003 45 31'.split())\n",
    "g = serengeti.subgraph(subgraph_nodes)\n",
    "g.remove_edges_from(g.selfloop_edges())\n",
    "sorted_nodes = nx.topological_sort(g)\n",
    "print(' '.join(map(str, sorted_nodes)))\n",
    "print(\"\\nTrophic levels:\")\n",
    "for node in sorted_nodes:\n",
    "    print(serengeti.node[node]['trophic_level'])\n"
   ]
  },
  {
   "cell_type": "markdown",
   "metadata": {
    "collapsed": true
   },
   "source": [
    "# Replacing a species in an existing sub-web"
   ]
  },
  {
   "cell_type": "code",
   "execution_count": null,
   "metadata": {
    "collapsed": false
   },
   "outputs": [],
   "source": [
    "# Convergence ecosystem 0\n",
    "orig_nodes = [1005, 14, 31, 42, 2]\n",
    "#orig_subweb = serengeti.subgraph(orig_nodes)\n",
    "#draw_food_web(orig_subweb)\n",
    "\n",
    "orig_nodes.remove(2)\n",
    "new_subweb = random_successor_subgraph(serengeti, 5, orig_nodes, 4)\n",
    "print(new_subweb.nodes())\n",
    "draw_food_web(new_subweb)"
   ]
  },
  {
   "cell_type": "markdown",
   "metadata": {},
   "source": [
    "# Scratch"
   ]
  },
  {
   "cell_type": "code",
   "execution_count": null,
   "metadata": {
    "collapsed": false
   },
   "outputs": [],
   "source": [
    "# Set 44\n",
    "subweb = serengeti.subgraph([int(i) for i in '72 33 1003 28 51'.split()])\n",
    "draw_food_web(subweb)"
   ]
  }
 ],
 "metadata": {
  "kernelspec": {
   "display_name": "Python 3",
   "language": "python",
   "name": "python3"
  },
  "language_info": {
   "codemirror_mode": {
    "name": "ipython",
    "version": 3
   },
   "file_extension": ".py",
   "mimetype": "text/x-python",
   "name": "python",
   "nbconvert_exporter": "python",
   "pygments_lexer": "ipython3",
   "version": "3.5.1"
  }
 },
 "nbformat": 4,
 "nbformat_minor": 0
}
