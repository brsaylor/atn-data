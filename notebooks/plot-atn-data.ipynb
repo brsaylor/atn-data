{
 "cells": [
  {
   "cell_type": "code",
   "execution_count": 1,
   "metadata": {
    "collapsed": false
   },
   "outputs": [],
   "source": [
    "%matplotlib inline\n",
    "\n",
    "import os\n",
    "from math import log2\n",
    "import glob\n",
    "\n",
    "import ipywidgets as widgets\n",
    "from ipywidgets import interact, interactive\n",
    "from IPython.display import display\n",
    "\n",
    "from atntools.create_feature_file import *\n",
    "from atntools.plot_atn_csv import *"
   ]
  },
  {
   "cell_type": "markdown",
   "metadata": {},
   "source": [
    "Score functions\n",
    "==============="
   ]
  },
  {
   "cell_type": "markdown",
   "metadata": {},
   "source": [
    "Original environment score function\n",
    "-----------------------------------\n",
    "\n",
    "The environment score depends on:\n",
    "- the number of species\n",
    "- the following species-specific attributes:\n",
    "    - total biomass\n",
    "    - individual biomass\n",
    "    - number of individuals (total biomass / individual biomass)\n",
    "    - trophic level\n",
    "    \n",
    "(see create_feature_file.environmentScore())"
   ]
  },
  {
   "cell_type": "markdown",
   "metadata": {
    "collapsed": false
   },
   "source": [
    "\n",
    "\n",
    "Original environment score, without rounding\n",
    "---\n",
    "\n",
    "$$Score_t = \\left( 5 log_2 \\left( \\sum_{i=1}^N b_i \\left(\\frac{B_{it}}{b_i}\\right)^{T_i} \\right) \\right)^2 + N^2$$"
   ]
  },
  {
   "cell_type": "code",
   "execution_count": 3,
   "metadata": {
    "collapsed": true
   },
   "outputs": [],
   "source": [
    "def environmentScoreNoRounding(speciesData, nodeConfig, biomassData):\n",
    "\n",
    "    numTimesteps = len(biomassData[nodeConfig[0]['nodeId']])\n",
    "    scores = np.empty(numTimesteps)\n",
    "\n",
    "    for timestep in range(numTimesteps):\n",
    "\n",
    "        # Calculate the Ecosystem Score for this timestep\n",
    "        biomass = 0\n",
    "        numSpecies = 0\n",
    "        for node in nodeConfig:\n",
    "            nodeId = node['nodeId']\n",
    "            perUnitBiomass = node['perUnitBiomass']\n",
    "\n",
    "            # Sometimes biomass can go slightly negative.\n",
    "            # Clip to 0 to avoid complex numbers in score calculation.\n",
    "            totalBiomass = max(0, biomassData[nodeId][timestep])\n",
    "            \n",
    "            if totalBiomass > 0:\n",
    "                numSpecies += 1\n",
    "\n",
    "            biomass += perUnitBiomass * pow(totalBiomass / perUnitBiomass,\n",
    "                    speciesData[nodeId]['trophicLevel'])\n",
    "        if biomass > 0:\n",
    "            biomass = log2(biomass) * 5\n",
    "        scores[timestep] = pow(biomass, 2) + pow(numSpecies, 2)\n",
    "\n",
    "    return scores"
   ]
  },
  {
   "cell_type": "markdown",
   "metadata": {},
   "source": [
    "Using cube root instead of log\n",
    "---"
   ]
  },
  {
   "cell_type": "code",
   "execution_count": 4,
   "metadata": {
    "collapsed": true
   },
   "outputs": [],
   "source": [
    "def environmentScoreCubeRoot(speciesData, nodeConfig, biomassData):\n",
    "    \"\"\"\n",
    "    Compute the Ecosystem Score for all timesteps for the given data and return\n",
    "    the score time series.  The calculations are taken from\n",
    "    model.Ecosystem.updateEcosystemScore() in WoB_Server.\n",
    "    \"\"\"\n",
    "\n",
    "    numTimesteps = len(biomassData[nodeConfig[0]['nodeId']])\n",
    "    scores = np.empty(numTimesteps)\n",
    "\n",
    "    for timestep in range(numTimesteps):\n",
    "\n",
    "        # Calculate the Ecosystem Score for this timestep\n",
    "        biomass = 0\n",
    "        numSpecies = 0\n",
    "        for node in nodeConfig:\n",
    "            nodeId = node['nodeId']\n",
    "            perUnitBiomass = node['perUnitBiomass']\n",
    "\n",
    "            # Sometimes biomass can go slightly negative.\n",
    "            # Clip to 0 to avoid complex numbers in score calculation.\n",
    "            totalBiomass = max(0, biomassData[nodeId][timestep])\n",
    "            \n",
    "            if totalBiomass > 0:\n",
    "                numSpecies += 1\n",
    "\n",
    "            biomass += perUnitBiomass * pow(totalBiomass / perUnitBiomass,\n",
    "                    speciesData[nodeId]['trophicLevel'])\n",
    "        if biomass > 0:\n",
    "            biomass = pow(biomass, 1/3) * 5\n",
    "        scores[timestep] = pow(biomass, 2) + pow(numSpecies, 2)\n",
    "\n",
    "    return scores"
   ]
  },
  {
   "cell_type": "markdown",
   "metadata": {},
   "source": [
    "Shannon index, based on number of individuals\n",
    "---"
   ]
  },
  {
   "cell_type": "code",
   "execution_count": 5,
   "metadata": {
    "collapsed": false
   },
   "outputs": [],
   "source": [
    "def shannonIndex(speciesData, nodeConfig, biomassData):\n",
    "    numTimesteps = len(biomassData[nodeConfig[0]['nodeId']])\n",
    "    scores = np.zeros(numTimesteps)\n",
    "    \n",
    "    for timestep in range(numTimesteps):\n",
    "        individualCount = np.empty(len(nodeConfig))\n",
    "        for i, node in enumerate(nodeConfig):\n",
    "            speciesBiomass = max(0, biomassData[node['nodeId']][timestep])\n",
    "            individualBiomass = node['perUnitBiomass']\n",
    "            individualCount[i] = speciesBiomass / individualBiomass\n",
    "        totalIndividuals = individualCount.sum()\n",
    "        for i, node in enumerate(nodeConfig):\n",
    "            if individualCount[i] == 0:\n",
    "                continue\n",
    "            proportion = individualCount[i] / totalIndividuals\n",
    "            scores[timestep] -= proportion * log2(proportion)\n",
    "    \n",
    "    return scores"
   ]
  },
  {
   "cell_type": "markdown",
   "metadata": {},
   "source": [
    "Shannon index, based on biomass\n",
    "---"
   ]
  },
  {
   "cell_type": "code",
   "execution_count": 6,
   "metadata": {
    "collapsed": false
   },
   "outputs": [],
   "source": [
    "def shannonIndexBiomass(speciesData, nodeConfig, biomassData):\n",
    "    numTimesteps = len(biomassData[nodeConfig[0]['nodeId']])\n",
    "    scores = np.zeros(numTimesteps)\n",
    "    \n",
    "    for timestep in range(numTimesteps):\n",
    "        speciesBiomass = np.empty(len(nodeConfig))\n",
    "        for i, node in enumerate(nodeConfig):\n",
    "            speciesBiomass[i] = max(0, biomassData[node['nodeId']][timestep])\n",
    "        totalBiomass = speciesBiomass.sum()\n",
    "        for i, node in enumerate(nodeConfig):\n",
    "            if speciesBiomass[i] <= 0:\n",
    "                continue\n",
    "            proportion = speciesBiomass[i] / totalBiomass\n",
    "            scores[timestep] -= proportion * log2(proportion)\n",
    "    \n",
    "    return scores"
   ]
  },
  {
   "cell_type": "markdown",
   "metadata": {},
   "source": [
    "Biomass-based Shannon index times total biomass\n",
    "---"
   ]
  },
  {
   "cell_type": "markdown",
   "metadata": {
    "collapsed": false
   },
   "source": [
    "Moved shannonIndexBiomassProduct into create_feature_file.py"
   ]
  },
  {
   "cell_type": "markdown",
   "metadata": {},
   "source": [
    "Average of Shannon index by trophic level\n",
    "---"
   ]
  },
  {
   "cell_type": "code",
   "execution_count": 7,
   "metadata": {
    "collapsed": true
   },
   "outputs": [],
   "source": [
    "def avgShannonIndexByTrophicLevel(speciesData, nodeConfig, biomassData):\n",
    "    numTimesteps = len(biomassData[nodeConfig[0]['nodeId']])\n",
    "    scores = np.zeros(numTimesteps)\n",
    "    \n",
    "    for timestep in range(numTimesteps):\n",
    "        \n",
    "        # Organize species biomass values into lists by trophic level\n",
    "        sb = {}  # species biomass by trophic level\n",
    "        for i, node in enumerate(nodeConfig):\n",
    "            trophicLevel = round(speciesData[node['nodeId']]['trophicLevel'])\n",
    "            biomass = max(0, biomassData[node['nodeId']][timestep])\n",
    "            if trophicLevel not in sb:\n",
    "                sb[trophicLevel] = [biomass]\n",
    "            else:\n",
    "                sb[trophicLevel].append(biomass)\n",
    "        \n",
    "        # Calculate Shannon index for each trophic level\n",
    "        shannon = np.zeros(len(sb))  # note: index is not trophic level, which is not relevent at this point\n",
    "        for i, biomassList in enumerate(sb.values()):\n",
    "            totalBiomass = sum(biomassList)\n",
    "            for biomass in biomassList:\n",
    "                if biomass <= 0:\n",
    "                    continue\n",
    "                proportion = biomass / totalBiomass\n",
    "                shannon[i] -= proportion * log2(proportion)\n",
    "        \n",
    "        scores[timestep] = shannon.mean()\n",
    "        \n",
    "        if timestep % 100 == 0:\n",
    "            print(\"timestep {}\".format(timestep))\n",
    "            print(\"sb = {}\".format(sb))\n",
    "            print(\"shannon = {}\".format(shannon))\n",
    "    \n",
    "    return scores"
   ]
  },
  {
   "cell_type": "markdown",
   "metadata": {},
   "source": [
    "Net production\n",
    "---"
   ]
  },
  {
   "cell_type": "markdown",
   "metadata": {
    "collapsed": false
   },
   "source": [
    "moved to create_feature_file.netProduction"
   ]
  },
  {
   "cell_type": "markdown",
   "metadata": {},
   "source": [
    "Select score function and plot\n",
    "---"
   ]
  },
  {
   "cell_type": "code",
   "execution_count": 2,
   "metadata": {
    "collapsed": false,
    "scrolled": false
   },
   "outputs": [
    {
     "data": {
      "image/png": "[encoded data removed]",
      "text/plain": [
       "<matplotlib.figure.Figure at 0x10e295f60>"
      ]
     },
     "metadata": {},
     "output_type": "display_data"
    }
   ],
   "source": [
    "scoreFunction = environmentScore\n",
    "\n",
    "#csvDir = '../data/box/10-species/31-44-45-47-49-50-66-75-1001-1005/set93/biomass-data'\n",
    "csvDir = '../../data/set69/biomass-data'\n",
    "#csvDir = '../WoB_Server_ATNEngine/src/log/atn'\n",
    "filenames = glob.glob(os.path.join(csvDir, '*.csv*'))\n",
    "filenames.sort(key=lambda f: getSimNumber(f))\n",
    "file_basenames = list(map(os.path.basename, filenames))\n",
    "\n",
    "def plotFile(file_basename):\n",
    "    filename = os.path.join(csvDir, file_basename)\n",
    "    #plotCsv(filename, scoreFunction, showLegend=False, figsize=(12,8))\n",
    "    plotCsv(filename, scoreFunction, showLegend=False, figsize=(8,4))\n",
    "    #plotCsv(os.path.join(csvDir, filename), scoreFunction, showLegend=True)\n",
    "\n",
    "selectWidget = interactive(plotFile, file_basename=widgets.Select(description=\"File\", options=file_basenames))\n",
    "display(selectWidget)\n"
   ]
  },
  {
   "cell_type": "markdown",
   "metadata": {
    "collapsed": false
   },
   "source": [
    "Shannon index test\n",
    "---\n",
    "Checking against first timestep of avgShannonIndexByTrophicLevel, set 1, sim 1, trophic level 2"
   ]
  },
  {
   "cell_type": "code",
   "execution_count": null,
   "metadata": {
    "collapsed": false
   },
   "outputs": [],
   "source": [
    "blist = [1751.0, 1415.0]\n",
    "total = sum(blist)\n",
    "s = 0\n",
    "for b in blist:\n",
    "    proportion = b / total\n",
    "    s -= proportion * log2(proportion)\n",
    "print(s)"
   ]
  },
  {
   "cell_type": "code",
   "execution_count": null,
   "metadata": {
    "collapsed": false
   },
   "outputs": [],
   "source": []
  },
  {
   "cell_type": "code",
   "execution_count": null,
   "metadata": {
    "collapsed": true
   },
   "outputs": [],
   "source": []
  },
  {
   "cell_type": "code",
   "execution_count": null,
   "metadata": {
    "collapsed": true
   },
   "outputs": [],
   "source": []
  },
  {
   "cell_type": "code",
   "execution_count": null,
   "metadata": {
    "collapsed": true
   },
   "outputs": [],
   "source": []
  },
  {
   "cell_type": "code",
   "execution_count": null,
   "metadata": {
    "collapsed": true
   },
   "outputs": [],
   "source": []
  },
  {
   "cell_type": "code",
   "execution_count": null,
   "metadata": {
    "collapsed": true
   },
   "outputs": [],
   "source": []
  },
  {
   "cell_type": "code",
   "execution_count": null,
   "metadata": {
    "collapsed": true
   },
   "outputs": [],
   "source": []
  },
  {
   "cell_type": "code",
   "execution_count": null,
   "metadata": {
    "collapsed": true
   },
   "outputs": [],
   "source": []
  },
  {
   "cell_type": "code",
   "execution_count": null,
   "metadata": {
    "collapsed": false
   },
   "outputs": [],
   "source": []
  },
  {
   "cell_type": "markdown",
   "metadata": {
    "collapsed": true
   },
   "source": [
    "Net production trend\n",
    "---\n",
    "It seems strange that the net production trend tends to be slightly positive.\n",
    "The plot below demonstrates how the derivative of an exponentially decaying function has an upward trend.\n",
    "\n",
    "For net production, a simple average is more appropriate than a trend. It is negative, as expected."
   ]
  },
  {
   "cell_type": "code",
   "execution_count": null,
   "metadata": {
    "collapsed": false
   },
   "outputs": [],
   "source": [
    "y = np.array([32, 16, 8, 4, 2, 1, 1, 1])\n",
    "x = np.arange(len(y))\n",
    "dy = (y - np.roll(y, 1))[1:]\n",
    "plt.plot(x, y, label='y')\n",
    "plt.plot(x[1:], dy, label='dy')\n",
    "\n",
    "slope, intercept, r_value, p_value, std_err = stats.linregress(x[1:], dy)\n",
    "plt.plot(x[1:], x[1:] * slope + intercept, label='linear regression')\n",
    "\n",
    "plt.legend()\n",
    "\n",
    "print(\"slope = {}\".format(slope))\n",
    "print(\"average = {}\".format(np.mean(dy)))"
   ]
  },
  {
   "cell_type": "markdown",
   "metadata": {},
   "source": [
    "Splitting biomass between multiple species in the top trophic level lowers score\n",
    "---"
   ]
  },
  {
   "cell_type": "code",
   "execution_count": null,
   "metadata": {
    "collapsed": false
   },
   "outputs": [],
   "source": [
    "print(20**3)\n",
    "print(10**3 + 10**3)"
   ]
  }
 ],
 "metadata": {
  "anaconda-cloud": {},
  "kernelspec": {
   "display_name": "Python [default]",
   "language": "python",
   "name": "python3"
  },
  "language_info": {
   "codemirror_mode": {
    "name": "ipython",
    "version": 3
   },
   "file_extension": ".py",
   "mimetype": "text/x-python",
   "name": "python",
   "nbconvert_exporter": "python",
   "pygments_lexer": "ipython3",
   "version": "3.5.2"
  },
  "widgets": {
   "state": {
    "a6f7faf9984c4a9dab347839331ef818": {
     "views": [
      {
       "cell_index": 18
      }
     ]
    }
   },
   "version": "1.2.0"
  }
 },
 "nbformat": 4,
 "nbformat_minor": 0
}
