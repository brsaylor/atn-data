{
 "cells": [
  {
   "cell_type": "code",
   "execution_count": null,
   "metadata": {
    "collapsed": false
   },
   "outputs": [],
   "source": [
    "%matplotlib inline\n",
    "\n",
    "import os.path\n",
    "import json\n",
    "\n",
    "import pandas as pd\n",
    "import matplotlib\n",
    "matplotlib.style.use('ggplot')\n",
    "import matplotlib.pyplot as plt\n",
    "\n",
    "from atntools import settings, searchprocess"
   ]
  },
  {
   "cell_type": "code",
   "execution_count": null,
   "metadata": {
    "collapsed": true
   },
   "outputs": [],
   "source": [
    "sequence_nums = [5, 1, 2]"
   ]
  },
  {
   "cell_type": "code",
   "execution_count": null,
   "metadata": {
    "collapsed": false
   },
   "outputs": [],
   "source": [
    "def get_final_iteration_num(sequence_dir):\n",
    "    state_filename = os.path.join(sequence_dir, 'sequence-state.json')\n",
    "    with open(state_filename, 'r') as f:\n",
    "        sequence_state = json.load(f)\n",
    "    final_iteration_num = len(sequence_state['sets']) - 2\n",
    "    return final_iteration_num\n",
    "\n",
    "def get_iteration_data(sequence_num):\n",
    "    sequence_dir = searchprocess.get_sequence_dir(sequence_num)\n",
    "    final_iteration_num = get_final_iteration_num(sequence_dir)\n",
    "    return pd.read_csv(\n",
    "        os.path.join(sequence_dir, 'iteration-{}.csv'.format(final_iteration_num)),\n",
    "        index_col=0)\n",
    "\n",
    "def get_extinction_data(sequence_num):\n",
    "    sequence_dir = searchprocess.get_sequence_dir(sequence_num)\n",
    "    final_iteration_num = get_final_iteration_num(sequence_dir)\n",
    "    df = pd.read_csv(\n",
    "        os.path.join(sequence_dir, 'extinctions-iteration-{}.csv'.format(final_iteration_num)),\n",
    "        index_col=0)\n",
    "    df.fillna(0, inplace=True)\n",
    "    return df"
   ]
  },
  {
   "cell_type": "code",
   "execution_count": null,
   "metadata": {
    "collapsed": false
   },
   "outputs": [],
   "source": [
    "def plot_extinction_distributions(dataframes, iterations):\n",
    "    plt.figure(figsize=(10, 20))\n",
    "    rows = iterations\n",
    "    cols = len(dataframes)\n",
    "    for col, extinctions in enumerate(dataframes, start=1):\n",
    "        for i in range(len(extinctions)):\n",
    "            plot_num = i * cols + col\n",
    "            ax = plt.subplot(rows, cols, plot_num)\n",
    "            extinctions.loc[i].plot.bar(ax=ax, width=1, ylim=(0, 1))\n",
    "            if plot_num == 1:\n",
    "                plt.ylabel(\"relative freq.\")\n",
    "                plt.xlabel(\"extinctions\")\n",
    "            if plot_num <= cols:\n",
    "                species_count = len(extinctions.columns) - 1\n",
    "                plt.title(\"{} species\".format(species_count))\n",
    "            \n",
    "extinction_dfs = [get_extinction_data(s) for s in sequence_nums]\n",
    "plot_extinction_distributions(extinction_dfs, 10)\n",
    "plt.tight_layout()"
   ]
  },
  {
   "cell_type": "code",
   "execution_count": null,
   "metadata": {
    "collapsed": false
   },
   "outputs": [],
   "source": [
    "def plot_mean_extinctions(dataframes, iterations):\n",
    "    plt.figure()\n",
    "    for df in dataframes:\n",
    "        mean = (df * list(map(int, df.columns))).sum(axis=1)\n",
    "        species_count = len(df.columns) - 1\n",
    "        mean.plot(ylim=(0, 7), label=\"{} species\".format(species_count))\n",
    "    plt.xlabel('iteration')\n",
    "    plt.ylabel('mean exinction count')\n",
    "    plt.legend(prop={'size': 11})\n",
    "        \n",
    "plot_mean_extinctions(extinction_dfs, 10)"
   ]
  },
  {
   "cell_type": "code",
   "execution_count": null,
   "metadata": {
    "collapsed": false
   },
   "outputs": [],
   "source": [
    "def plot_f1_scores(dataframes, species_counts, iterations):\n",
    "    plt.figure()\n",
    "    for species_count, df in zip(species_counts, dataframes):\n",
    "        mean_score = df[['f1_test_0', 'f1_test_1']].mean(axis=1)\n",
    "        mean_score.plot(ylim=(0, 1), label=\"{} species\".format(species_count))\n",
    "    plt.xlabel('iteration')\n",
    "    plt.ylabel('F1 score class average')\n",
    "    plt.legend(loc='lower right', prop={'size': 11})\n",
    "        \n",
    "iteration_dfs = [get_iteration_data(s) for s in sequence_nums]\n",
    "species_counts = [len(df.columns) - 1 for df in extinction_dfs]\n",
    "plot_f1_scores(iteration_dfs, species_counts, 10)"
   ]
  },
  {
   "cell_type": "code",
   "execution_count": null,
   "metadata": {
    "collapsed": true
   },
   "outputs": [],
   "source": []
  }
 ],
 "metadata": {
  "anaconda-cloud": {},
  "kernelspec": {
   "display_name": "Python [conda env:atn-tools]",
   "language": "python",
   "name": "conda-env-atn-tools-py"
  },
  "language_info": {
   "codemirror_mode": {
    "name": "ipython",
    "version": 3
   },
   "file_extension": ".py",
   "mimetype": "text/x-python",
   "name": "python",
   "nbconvert_exporter": "python",
   "pygments_lexer": "ipython3",
   "version": "3.5.2"
  }
 },
 "nbformat": 4,
 "nbformat_minor": 1
}
