{
 "cells": [
  {
   "cell_type": "markdown",
   "metadata": {},
   "source": [
    "# Comparison of HDF5 and CSV files produced for the same simulation"
   ]
  },
  {
   "cell_type": "code",
   "execution_count": 71,
   "metadata": {
    "collapsed": false
   },
   "outputs": [],
   "source": [
    "import os\n",
    "import glob\n",
    "\n",
    "import pandas as pd\n",
    "import numpy as np\n",
    "\n",
    "from atntools.features import get_simulation_data"
   ]
  },
  {
   "cell_type": "code",
   "execution_count": 72,
   "metadata": {
    "collapsed": false
   },
   "outputs": [],
   "source": [
    "set_dir = '/Users/ben/SFSU/thesis/data/box/5-species/2-8-9-55-80/set183'\n",
    "#features_orig = pd.read_csv(os.path.join(set_dir, 'features.set183.orig.csv'))\n",
    "#features_test = pd.read_csv(os.path.join(set_dir, 'features.set183.test.csv'))\n",
    "\n",
    "csv_files = sorted(glob.glob(os.path.join(set_dir, 'biomass-data', '*.csv')))\n",
    "h5_files = sorted(glob.glob(os.path.join(set_dir, 'biomass-data', '*.h5')))\n",
    "\n",
    "for csv_file, h5_file in zip(csv_files, h5_files):\n",
    "    csv_df = get_simulation_data(csv_file)[2]\n",
    "    h5_df = get_simulation_data(h5_file)[2]\n",
    "    identical = (csv_df == h5_df).sum(axis=0).min() == 5000\n",
    "    if not identical:\n",
    "        print(\"{} and {} differ\".format(csv_file, h5_file))"
   ]
  }
 ],
 "metadata": {
  "anaconda-cloud": {},
  "kernelspec": {
   "display_name": "Python [conda env:atn-tools]",
   "language": "python",
   "name": "conda-env-atn-tools-py"
  },
  "language_info": {
   "codemirror_mode": {
    "name": "ipython",
    "version": 3
   },
   "file_extension": ".py",
   "mimetype": "text/x-python",
   "name": "python",
   "nbconvert_exporter": "python",
   "pygments_lexer": "ipython3",
   "version": "3.5.2"
  }
 },
 "nbformat": 4,
 "nbformat_minor": 1
}
